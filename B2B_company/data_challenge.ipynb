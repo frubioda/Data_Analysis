{
 "cells": [
  {
   "cell_type": "code",
   "execution_count": 1,
   "metadata": {
    "ExecuteTime": {
     "end_time": "2017-09-26T00:15:43.494187Z",
     "start_time": "2017-09-26T00:15:43.191150Z"
    },
    "collapsed": true
   },
   "outputs": [],
   "source": [
    "## Import libraries\n",
    "import numpy as np\n",
    "import pandas as pd\n",
    "import matplotlib as mpl; import matplotlib.pyplot as plt; from matplotlib import cm\n",
    "import seaborn as sns\n",
    "from datetime import datetime\n",
    "\n",
    "mpl.rc('xtick', labelsize=20) \n",
    "mpl.rc('ytick', labelsize=20) \n",
    "\n",
    "# Add this to python2 code to make life easier\n",
    "from __future__ import absolute_import, division, print_function"
   ]
  },
  {
   "cell_type": "markdown",
   "metadata": {},
   "source": [
    "## Read the JSON data:"
   ]
  },
  {
   "cell_type": "code",
   "execution_count": 2,
   "metadata": {
    "ExecuteTime": {
     "end_time": "2017-09-25T23:48:54.203022Z",
     "start_time": "2017-09-26T06:48:54.088Z"
    },
    "collapsed": true
   },
   "outputs": [],
   "source": [
    "df = pd.read_json('data_analysis.json') #Read it as a pandas dataframe"
   ]
  },
  {
   "cell_type": "code",
   "execution_count": 3,
   "metadata": {
    "ExecuteTime": {
     "end_time": "2017-09-25T23:48:54.203239Z",
     "start_time": "2017-09-26T06:48:54.102Z"
    }
   },
   "outputs": [
    {
     "data": {
      "text/html": [
       "<div>\n",
       "<style>\n",
       "    .dataframe thead tr:only-child th {\n",
       "        text-align: right;\n",
       "    }\n",
       "\n",
       "    .dataframe thead th {\n",
       "        text-align: left;\n",
       "    }\n",
       "\n",
       "    .dataframe tbody tr th {\n",
       "        vertical-align: top;\n",
       "    }\n",
       "</style>\n",
       "<table border=\"1\" class=\"dataframe\">\n",
       "  <thead>\n",
       "    <tr style=\"text-align: right;\">\n",
       "      <th></th>\n",
       "      <th>address</th>\n",
       "      <th>category_code</th>\n",
       "      <th>city</th>\n",
       "      <th>headcount</th>\n",
       "      <th>name</th>\n",
       "      <th>phone</th>\n",
       "      <th>revenue</th>\n",
       "      <th>state</th>\n",
       "      <th>time_in_business</th>\n",
       "      <th>zip</th>\n",
       "    </tr>\n",
       "  </thead>\n",
       "  <tbody>\n",
       "    <tr>\n",
       "      <th>0</th>\n",
       "      <td>10085 SCRIPPS RANCH CT STE A</td>\n",
       "      <td>44420000</td>\n",
       "      <td>SAN DIEGO</td>\n",
       "      <td>50 to 99</td>\n",
       "      <td>AMD CUSTOM</td>\n",
       "      <td>3123628000</td>\n",
       "      <td>$20 to 50 Million</td>\n",
       "      <td>CA</td>\n",
       "      <td>10+ years</td>\n",
       "      <td>92131</td>\n",
       "    </tr>\n",
       "    <tr>\n",
       "      <th>1</th>\n",
       "      <td>2566 SHALLOWFORD RD NE STE 104 # 302</td>\n",
       "      <td>31490000</td>\n",
       "      <td>ATLANTA</td>\n",
       "      <td>1 to 4</td>\n",
       "      <td>Real Hope Real Estate Inc</td>\n",
       "      <td>None</td>\n",
       "      <td>Less Than $500,000</td>\n",
       "      <td>GA</td>\n",
       "      <td>10+ years</td>\n",
       "      <td>30345</td>\n",
       "    </tr>\n",
       "    <tr>\n",
       "      <th>2</th>\n",
       "      <td>212 E MAIN ST</td>\n",
       "      <td>53120000</td>\n",
       "      <td>NEOSHO</td>\n",
       "      <td>1 to 4</td>\n",
       "      <td>Jimmy Sexton Photography</td>\n",
       "      <td>4046331779</td>\n",
       "      <td>Less Than $500,000</td>\n",
       "      <td>MO</td>\n",
       "      <td>10+ years</td>\n",
       "      <td>64850</td>\n",
       "    </tr>\n",
       "  </tbody>\n",
       "</table>\n",
       "</div>"
      ],
      "text/plain": [
       "                                address category_code       city headcount  \\\n",
       "0          10085 SCRIPPS RANCH CT STE A      44420000  SAN DIEGO  50 to 99   \n",
       "1  2566 SHALLOWFORD RD NE STE 104 # 302      31490000    ATLANTA    1 to 4   \n",
       "2                         212 E MAIN ST      53120000     NEOSHO    1 to 4   \n",
       "\n",
       "                        name       phone             revenue state  \\\n",
       "0                 AMD CUSTOM  3123628000   $20 to 50 Million    CA   \n",
       "1  Real Hope Real Estate Inc        None  Less Than $500,000    GA   \n",
       "2   Jimmy Sexton Photography  4046331779  Less Than $500,000    MO   \n",
       "\n",
       "  time_in_business    zip  \n",
       "0        10+ years  92131  \n",
       "1        10+ years  30345  \n",
       "2        10+ years  64850  "
      ]
     },
     "execution_count": 3,
     "metadata": {},
     "output_type": "execute_result"
    }
   ],
   "source": [
    "df.head(3)"
   ]
  },
  {
   "cell_type": "markdown",
   "metadata": {},
   "source": [
    "## Exploratory analysis:\n",
    "\n",
    "- **name**: The name of the business\n",
    "- **address**: The street address of the business\n",
    "- **city**: The city the business is in\n",
    "- **zip**: The businesses zip code\n",
    "- **time_in_business**: The years the company has been in business\n",
    "- **phone**: The businesses phone number\n",
    "- **category_code**: The [NAICS](https://classcodes.com/naics-code-list/) code for the business\n",
    "- **headcount**: The number of people employed by the business\n",
    "- **revenue**: The revenue (in thousands) of the business"
   ]
  },
  {
   "cell_type": "markdown",
   "metadata": {
    "ExecuteTime": {
     "end_time": "2017-09-20T19:35:38.027135Z",
     "start_time": "2017-09-20T19:35:38.004542Z"
    }
   },
   "source": [
    "## GOALS:\n",
    "1. **Fill Rate**: For each field, how many records have a value.\n",
    "2. **True-Valued Fill Rate**: For each field, how many records have *relevant* data in them. For example, a field which has string valued entries may have elements that contain something like `' '`. This is a string but may not be 'good' data depending on the field.\n",
    "3. **Cardinality**: The cardinality of each field.\n",
    "4. **Something interesting**: Find something cool or odd in the data set and tell us about it."
   ]
  },
  {
   "cell_type": "markdown",
   "metadata": {},
   "source": [
    "## 1. Fill Rate\n",
    "For each field, how many records have a value."
   ]
  },
  {
   "cell_type": "code",
   "execution_count": 4,
   "metadata": {
    "ExecuteTime": {
     "end_time": "2017-09-25T23:48:54.251368Z",
     "start_time": "2017-09-26T06:48:54.250Z"
    }
   },
   "outputs": [
    {
     "name": "stdout",
     "output_type": "stream",
     "text": [
      "address : 999986 recorded values out of 1000000 corresponding to 99.9986 %\n",
      "category_code : 999986 recorded values out of 1000000 corresponding to 99.9986 %\n",
      "city : 999986 recorded values out of 1000000 corresponding to 99.9986 %\n",
      "headcount : 962352 recorded values out of 1000000 corresponding to 96.2352 %\n",
      "name : 999986 recorded values out of 1000000 corresponding to 99.9986 %\n",
      "phone : 590889 recorded values out of 1000000 corresponding to 59.0889 %\n",
      "revenue : 943092 recorded values out of 1000000 corresponding to 94.3092 %\n",
      "state : 999986 recorded values out of 1000000 corresponding to 99.9986 %\n",
      "time_in_business : 916125 recorded values out of 1000000 corresponding to 91.6125 %\n",
      "zip : 999988 recorded values out of 1000000 corresponding to 99.9988 %\n"
     ]
    }
   ],
   "source": [
    "total = len(df)\n",
    "cols = df.columns\n",
    "\n",
    "for i in range(len(df.columns)):\n",
    "    print(cols[i], ':', df[cols[i]].dropna().count(), 'recorded values out of', total,\n",
    "          'corresponding to', df[cols[i]].dropna().count()/total*100, '%')"
   ]
  },
  {
   "cell_type": "markdown",
   "metadata": {},
   "source": [
    "## 2. True-Valued Fill Rate\n",
    "For each field, how many records have *relevant* data in them. For example, a field which has string valued entries may have elements that contain something like `' '`. This is a string but may not be 'good' data depending on the field."
   ]
  },
  {
   "cell_type": "code",
   "execution_count": 5,
   "metadata": {
    "ExecuteTime": {
     "end_time": "2017-09-25T23:48:54.255644Z",
     "start_time": "2017-09-26T06:48:54.254Z"
    }
   },
   "outputs": [
    {
     "data": {
      "text/plain": [
       "array(['CA', 'GA', 'MO', 'OH', 'AL', 'MI', 'ME', 'FL', 'NM', 'HI', 'IN',\n",
       "       'NY', 'IA', 'KS', 'MD', 'NJ', 'VA', 'DC', 'OR', 'NC', 'TX', 'PA',\n",
       "       'ID', 'WA', 'UT', 'TN', 'MA', 'CT', 'CO', 'AZ', 'MS', 'OK', 'KY',\n",
       "       'LA', 'MN', 'ND', 'WV', 'WI', 'SC', 'NH', 'IL', 'MT', 'RI', 'AR',\n",
       "       'NV', 'DE', 'WY', 'SD', 'NE', 'VT', 'AK', 'none', ' ', '0', 'VI',\n",
       "       '', 'null', 'PR', 0], dtype=object)"
      ]
     },
     "execution_count": 5,
     "metadata": {},
     "output_type": "execute_result"
    }
   ],
   "source": [
    "df['state'].dropna().unique()"
   ]
  },
  {
   "cell_type": "markdown",
   "metadata": {},
   "source": [
    "We can see that there are entries with \"none\", \"null\", \"\", \" \" and \"0\", on top of the empty entries, which also correspond to NaNs.\n",
    "Let's check how many entries have these values for each column:"
   ]
  },
  {
   "cell_type": "code",
   "execution_count": 6,
   "metadata": {
    "ExecuteTime": {
     "end_time": "2017-09-25T23:48:54.259588Z",
     "start_time": "2017-09-26T06:48:54.258Z"
    }
   },
   "outputs": [
    {
     "name": "stdout",
     "output_type": "stream",
     "text": [
      "There are 63 none, null, \"\", \" \" and 0 values out of 999986\n",
      "Category_code: 0.006 % do not have records\n"
     ]
    }
   ],
   "source": [
    "## Category_code\n",
    "print('There are', df['category_code'].loc[(df['category_code'] == 'null') | (df['category_code'] == 'none') |\n",
    "                                          (df['category_code'] == '') | (df['category_code'] == ' ') |\n",
    "                                          (df['category_code'] == '0')].count(), \n",
    "      'none, null, \"\", \" \" and 0 values out of', df['category_code'].count())\n",
    "\n",
    "print('Category_code:', \"{0:.3f}\".format(100.*df['category_code'].loc[(df['category_code'] == 'null') | \n",
    "                                                                      (df['category_code'] == 'none') |\n",
    "                                                                      (df['category_code'] == '') | \n",
    "                                                                      (df['category_code'] == ' ')|\n",
    "                                                                      (df['category_code'] == '0')].count() / \n",
    "                                         total), '% do not have records')\n",
    "\n",
    "df_category = df['category_code'].loc[(df['category_code'] != 'null') | (df['category_code'] == 'none') |\n",
    "                                      (df['category_code'] == '') | (df['category_code'] == ' ') |\n",
    "                                      (df['category_code'] == '0')].dropna()"
   ]
  },
  {
   "cell_type": "code",
   "execution_count": 7,
   "metadata": {
    "ExecuteTime": {
     "end_time": "2017-09-25T23:48:54.263344Z",
     "start_time": "2017-09-26T06:48:54.262Z"
    }
   },
   "outputs": [
    {
     "name": "stdout",
     "output_type": "stream",
     "text": [
      "There are 73 none, null, \"\", \" \" and 0 values out of 590889\n",
      "phone: 40.92 % do not have records\n"
     ]
    }
   ],
   "source": [
    "## Phone\n",
    "print('There are', df['phone'].loc[(df['phone'] == 'none') | (df['phone'] == 'null') | (df['phone'] == '') |\n",
    "                                  (df['phone'] == ' ') | (df['phone'] == '0')].count(), \n",
    "      'none, null, \"\", \" \" and 0 values out of', df['phone'].dropna().count())\n",
    "\n",
    "print('phone:', \"{0:.2f}\".format(100*(df['phone'].loc[(df['phone'] == 'none') | (df['phone'] == 'null') |\n",
    "                                                      (df['phone'] == '') | (df['phone'] == ' ') | \n",
    "                                                      (df['phone'] == '0')].count() + \n",
    "                                      total-df['phone'].dropna().count()) / total), '% do not have records')\n",
    "\n",
    "df_phone = df['phone'].loc[(df['phone'] != 'none') | (df['phone'] == 'null') | (df['phone'] == '') | \n",
    "                           (df['phone'] == ' ') | (df['phone'] == '0')].dropna()"
   ]
  },
  {
   "cell_type": "code",
   "execution_count": 8,
   "metadata": {
    "ExecuteTime": {
     "end_time": "2017-09-25T23:48:54.267677Z",
     "start_time": "2017-09-26T06:48:54.266Z"
    }
   },
   "outputs": [
    {
     "name": "stdout",
     "output_type": "stream",
     "text": [
      "There are 69 none, null, \"\", \" \" and 0 values out of 962352\n",
      "headcount: 3.77 % do not have records\n"
     ]
    }
   ],
   "source": [
    "## Headcount\n",
    "print('There are', df['headcount'].loc[(df['headcount'] == 'none') | (df['headcount'] == 'null') | \n",
    "                                       (df['headcount'] == '') | (df['headcount'] == ' ') | \n",
    "                                       (df['headcount'] == '0')].count(), \n",
    "      'none, null, \"\", \" \" and 0 values out of', df['headcount'].dropna().count())\n",
    "\n",
    "print('headcount:', \"{0:.2f}\".format(100*(df['headcount'].loc[(df['headcount'] == 'none') | (df['headcount'] == 'null') |\n",
    "                                                              (df['headcount'] == '') | (df['headcount'] == ' ') |\n",
    "                                                              (df['headcount'] == '0')].count()\n",
    "                                          + total-df['headcount'].dropna().count()) / total), '% do not have records')\n",
    "\n",
    "df_headcount = df['headcount'].loc[(df['headcount'] != 'none') | (df['headcount'] == 'null') | (df['headcount'] == '') | \n",
    "                                   (df['headcount'] == ' ') | (df['headcount'] == '0')].dropna()"
   ]
  },
  {
   "cell_type": "code",
   "execution_count": 9,
   "metadata": {
    "ExecuteTime": {
     "end_time": "2017-09-25T23:48:54.275089Z",
     "start_time": "2017-09-26T06:48:54.273Z"
    }
   },
   "outputs": [
    {
     "name": "stdout",
     "output_type": "stream",
     "text": [
      "There are 75 none, null, \"\", \" \" and 0 values out of 999986\n",
      "address: 0.009 % do not have records\n"
     ]
    }
   ],
   "source": [
    "## Address\n",
    "print('There are', df['address'].loc[(df['address'] == 'none') | (df['address'] == 'null') | (df['address'] == '') |\n",
    "                                    (df['address'] == ' ') | (df['address'] == '0')].count(), \n",
    "      'none, null, \"\", \" \" and 0 values out of', df['address'].dropna().count())\n",
    "\n",
    "print('address:', \"{0:.3f}\".format(100*(df['address'].loc[(df['address'] == 'none') | (df['address'] == 'null') |\n",
    "                                                          (df['address'] == '') | (df['address'] == ' ') | \n",
    "                                                          (df['address'] == '0')].count()\n",
    "                                        + total-df['address'].dropna().count()) / total), '% do not have records')\n",
    "\n",
    "df_address = df['address'].loc[(df['address'] != 'none') | (df['address'] == 'null') | (df['address'] == '') | \n",
    "                               (df['address'] == ' ') | (df['address'] == '0')].dropna()"
   ]
  },
  {
   "cell_type": "code",
   "execution_count": 10,
   "metadata": {
    "ExecuteTime": {
     "end_time": "2017-09-25T23:48:54.278533Z",
     "start_time": "2017-09-26T06:48:54.277Z"
    }
   },
   "outputs": [
    {
     "name": "stdout",
     "output_type": "stream",
     "text": [
      "There are 74 none, null, \"\", \" \" and 0 values out of 999986\n",
      "city: 0.009 % do not have records\n"
     ]
    }
   ],
   "source": [
    "## City\n",
    "print('There are', df['city'].loc[(df['city'] == 'none') | (df['city'] == 'null') | (df['city'] == '') | \n",
    "                                  (df['city'] == ' ') | (df['city'] == '0')].count(), \n",
    "      'none, null, \"\", \" \" and 0 values out of', df['city'].dropna().count())\n",
    "\n",
    "print('city:', \"{0:.3f}\".format(100*(df['city'].loc[(df['city'] == 'none') | (df['city'] == 'null') | \n",
    "                                                    (df['city'] == '') | (df['city'] == ' ') | \n",
    "                                                    (df['city'] == '0')].count()\n",
    "                                     + total-df['city'].dropna().count()) / total), '% do not have records')\n",
    "\n",
    "df_city = df['city'].loc[(df['city'] != 'none') | (df['city'] == 'null') | (df['city'] == '') | (df['city'] == ' ') |\n",
    "                         (df['city'] == '0')].dropna()"
   ]
  },
  {
   "cell_type": "code",
   "execution_count": 11,
   "metadata": {
    "ExecuteTime": {
     "end_time": "2017-09-25T23:48:54.281763Z",
     "start_time": "2017-09-26T06:48:54.280Z"
    }
   },
   "outputs": [
    {
     "name": "stdout",
     "output_type": "stream",
     "text": [
      "There are 65 none, null, \"\", \" \" and 0 values out of 999986\n",
      "name: 0.008 % do not have records\n"
     ]
    }
   ],
   "source": [
    "## Name\n",
    "print('There are', df['name'].loc[(df['name'] == 'none') | (df['name'] == 'null') | (df['name'] == '') | \n",
    "                                  (df['name'] == ' ') | (df['name'] == '0')].count(), \n",
    "      'none, null, \"\", \" \" and 0 values out of', df['name'].dropna().count())\n",
    "\n",
    "print('name:', \"{0:.3f}\".format(100*(df['name'].loc[(df['name'] == 'none') | (df['name'] == 'null') | \n",
    "                                                    (df['name'] == '') | (df['name'] == ' ') | \n",
    "                                                    (df['name'] == '0')].count()\n",
    "                                     + total-df['name'].dropna().count()) / total), '% do not have records')\n",
    "\n",
    "df_name = df['name'].loc[(df['name'] != 'none') | (df['name'] == 'null') | (df['name'] == '') | (df['name'] == ' ') |\n",
    "                         (df['name'] == '0')].dropna()"
   ]
  },
  {
   "cell_type": "code",
   "execution_count": 12,
   "metadata": {
    "ExecuteTime": {
     "end_time": "2017-09-25T23:48:54.287526Z",
     "start_time": "2017-09-26T06:48:54.288Z"
    }
   },
   "outputs": [
    {
     "name": "stdout",
     "output_type": "stream",
     "text": [
      "There are 76 none, null, \"\", \" \" and 0 values out of 943092\n",
      "revenue: 5.70 % do not have records\n"
     ]
    }
   ],
   "source": [
    "## Revenue\n",
    "print('There are', df['revenue'].loc[(df['revenue'] == 'none') | (df['revenue'] == 'null') | (df['revenue'] == '') | \n",
    "                                     (df['revenue'] == ' ') | (df['revenue'] == '0')].count(), \n",
    "      'none, null, \"\", \" \" and 0 values out of', df['revenue'].dropna().count())\n",
    "\n",
    "print('revenue:', \"{0:.2f}\".format(100*(df['revenue'].loc[(df['revenue'] == 'none') | (df['revenue'] == 'null') | \n",
    "                                                          (df['revenue'] == '') | (df['revenue'] == ' ') | \n",
    "                                                          (df['revenue'] == '0')].count()\n",
    "                                     + total-df['revenue'].dropna().count()) / total), '% do not have records')\n",
    "\n",
    "df_revenue = df['revenue'].loc[(df['revenue'] != 'none') | (df['revenue'] == 'null') | (df['revenue'] == '') | \n",
    "                               (df['revenue'] == ' ') | (df['revenue'] == '0')].dropna()"
   ]
  },
  {
   "cell_type": "code",
   "execution_count": 13,
   "metadata": {
    "ExecuteTime": {
     "end_time": "2017-09-25T23:48:54.294009Z",
     "start_time": "2017-09-26T06:48:54.292Z"
    }
   },
   "outputs": [
    {
     "name": "stdout",
     "output_type": "stream",
     "text": [
      "There are 79 none, null, \"\", \" \" and 0 values out of 999986\n",
      "state: 0.009 % do not have records\n"
     ]
    }
   ],
   "source": [
    "## State\n",
    "print('There are', df['state'].loc[(df['state'] == 'none') | (df['state'] == 'null') | (df['state'] == '') | \n",
    "                                   (df['state'] == ' ') | (df['state'] == '0')].count(), \n",
    "      'none, null, \"\", \" \" and 0 values out of', df['state'].dropna().count())\n",
    "\n",
    "print('state:', \"{0:.3f}\".format(100*(df['state'].loc[(df['state'] == 'none') | (df['state'] == 'null') | \n",
    "                                                      (df['state'] == '') | (df['state'] == ' ') | \n",
    "                                                      (df['state'] == '0')].count()\n",
    "                                     + total-df['state'].dropna().count()) / total), '% do not have records')\n",
    "\n",
    "df_state = df['state'].loc[(df['state'] != 'none') | (df['state'] == 'null') | (df['state'] == '') | \n",
    "                           (df['state'] == ' ') | (df['state'] == '0')].dropna()"
   ]
  },
  {
   "cell_type": "code",
   "execution_count": 14,
   "metadata": {
    "ExecuteTime": {
     "end_time": "2017-09-25T23:48:54.299385Z",
     "start_time": "2017-09-26T06:48:54.298Z"
    }
   },
   "outputs": [
    {
     "name": "stdout",
     "output_type": "stream",
     "text": [
      "There are 70 none, null, \"\", \" \" and 0 values out of 916125\n",
      "time_in_business: 8.39 % do not have records\n"
     ]
    }
   ],
   "source": [
    "## Time in Business\n",
    "print('There are', df['time_in_business'].loc[(df['time_in_business'] == 'none') | (df['time_in_business'] == 'null') |\n",
    "                                              (df['time_in_business'] == '') | (df['time_in_business'] == ' ') | \n",
    "                                              (df['time_in_business'] == '0')].count(), \n",
    "      'none, null, \"\", \" \" and 0 values out of', df['time_in_business'].dropna().count())\n",
    "\n",
    "print('time_in_business:', \"{0:.2f}\".format(100*(df['time_in_business'].loc[(df['time_in_business'] == 'none') | \n",
    "                                                                            (df['time_in_business'] == 'null') | \n",
    "                                                                            (df['time_in_business'] == '') | \n",
    "                                                                            (df['time_in_business'] == ' ') |\n",
    "                                                                            (df['time_in_business'] == '0')].count()\n",
    "                                     + total-df['time_in_business'].dropna().count()) / total), '% do not have records')\n",
    "\n",
    "df_time_in_business = df['time_in_business'].loc[(df['time_in_business'] != 'none') | (df['time_in_business'] == 'null') |\n",
    "                                                 (df['time_in_business'] == '') | (df['time_in_business'] == ' ') | \n",
    "                                                 (df['time_in_business'] == '0')].dropna()"
   ]
  },
  {
   "cell_type": "code",
   "execution_count": 15,
   "metadata": {
    "ExecuteTime": {
     "end_time": "2017-09-25T23:48:54.305521Z",
     "start_time": "2017-09-26T06:48:54.304Z"
    }
   },
   "outputs": [
    {
     "name": "stdout",
     "output_type": "stream",
     "text": [
      "There are 84 none, null, \"\", \" \" and 0 values out of 999988\n",
      "zip: 0.010 % do not have records\n"
     ]
    }
   ],
   "source": [
    "## Zip\n",
    "print('There are', df['zip'].loc[(df['zip'] == 'none') | (df['zip'] == 'null') | (df['zip'] == '') | \n",
    "                                 (df['zip'] == ' ') | (df['zip'] == '0')].count(), \n",
    "      'none, null, \"\", \" \" and 0 values out of', df['zip'].dropna().count())\n",
    "\n",
    "print('zip:', \"{0:.3f}\".format(100*(df['zip'].loc[(df['zip'] == 'none') | (df['zip'] == 'null') | (df['zip'] == '') | \n",
    "                                                  (df['zip'] == ' ') | (df['zip'] == '0')].count()\n",
    "                                    + total-df['zip'].dropna().count()) / total), '% do not have records')\n",
    "\n",
    "df_zip = df['zip'].loc[(df['zip'] != 'none') | (df['zip'] == 'null') | (df['zip'] == '') | (df['zip'] == ' ') | \n",
    "                       (df['zip'] == '0')].dropna()"
   ]
  },
  {
   "cell_type": "code",
   "execution_count": 16,
   "metadata": {
    "ExecuteTime": {
     "end_time": "2017-09-25T23:48:54.310216Z",
     "start_time": "2017-09-26T06:48:54.309Z"
    },
    "collapsed": true
   },
   "outputs": [],
   "source": [
    "df_corr = df.apply(lambda x: x.str.strip()).replace('', np.nan) #Replace \"\" and \" \" by NaN\n",
    "df_corr = df_corr.replace(['none', 'null', '0'], np.nan) #Replace \"none\", \"null\" and \"0\" by NaN"
   ]
  },
  {
   "cell_type": "code",
   "execution_count": 17,
   "metadata": {
    "ExecuteTime": {
     "end_time": "2017-09-25T23:48:54.321797Z",
     "start_time": "2017-09-26T06:48:54.320Z"
    }
   },
   "outputs": [
    {
     "name": "stdout",
     "output_type": "stream",
     "text": [
      "['CA' 'GA' 'MO' 'OH' 'AL' 'MI' 'ME' 'FL' 'NM' 'HI' 'IN' 'NY' 'IA' 'KS' 'MD'\n",
      " 'NJ' 'VA' 'DC' 'OR' 'NC' 'TX' 'PA' 'ID' 'WA' 'UT' 'TN' 'MA' 'CT' 'CO' 'AZ'\n",
      " 'MS' 'OK' 'KY' 'LA' 'MN' 'ND' 'WV' 'WI' 'SC' 'NH' 'IL' 'MT' 'RI' 'AR' 'NV'\n",
      " 'DE' 'WY' 'SD' 'NE' 'VT' 'AK' 'VI' 'PR']\n"
     ]
    },
    {
     "data": {
      "text/html": [
       "<div>\n",
       "<style>\n",
       "    .dataframe thead tr:only-child th {\n",
       "        text-align: right;\n",
       "    }\n",
       "\n",
       "    .dataframe thead th {\n",
       "        text-align: left;\n",
       "    }\n",
       "\n",
       "    .dataframe tbody tr th {\n",
       "        vertical-align: top;\n",
       "    }\n",
       "</style>\n",
       "<table border=\"1\" class=\"dataframe\">\n",
       "  <thead>\n",
       "    <tr style=\"text-align: right;\">\n",
       "      <th></th>\n",
       "      <th>address</th>\n",
       "      <th>category_code</th>\n",
       "      <th>city</th>\n",
       "      <th>headcount</th>\n",
       "      <th>name</th>\n",
       "      <th>phone</th>\n",
       "      <th>revenue</th>\n",
       "      <th>state</th>\n",
       "      <th>time_in_business</th>\n",
       "      <th>zip</th>\n",
       "    </tr>\n",
       "  </thead>\n",
       "  <tbody>\n",
       "    <tr>\n",
       "      <th>0</th>\n",
       "      <td>10085 SCRIPPS RANCH CT STE A</td>\n",
       "      <td>44420000</td>\n",
       "      <td>SAN DIEGO</td>\n",
       "      <td>50 to 99</td>\n",
       "      <td>AMD CUSTOM</td>\n",
       "      <td>3123628000</td>\n",
       "      <td>$20 to 50 Million</td>\n",
       "      <td>CA</td>\n",
       "      <td>10+ years</td>\n",
       "      <td>92131</td>\n",
       "    </tr>\n",
       "    <tr>\n",
       "      <th>1</th>\n",
       "      <td>2566 SHALLOWFORD RD NE STE 104 # 302</td>\n",
       "      <td>31490000</td>\n",
       "      <td>ATLANTA</td>\n",
       "      <td>1 to 4</td>\n",
       "      <td>Real Hope Real Estate Inc</td>\n",
       "      <td>NaN</td>\n",
       "      <td>Less Than $500,000</td>\n",
       "      <td>GA</td>\n",
       "      <td>10+ years</td>\n",
       "      <td>30345</td>\n",
       "    </tr>\n",
       "    <tr>\n",
       "      <th>2</th>\n",
       "      <td>212 E MAIN ST</td>\n",
       "      <td>53120000</td>\n",
       "      <td>NEOSHO</td>\n",
       "      <td>1 to 4</td>\n",
       "      <td>Jimmy Sexton Photography</td>\n",
       "      <td>4046331779</td>\n",
       "      <td>Less Than $500,000</td>\n",
       "      <td>MO</td>\n",
       "      <td>10+ years</td>\n",
       "      <td>64850</td>\n",
       "    </tr>\n",
       "    <tr>\n",
       "      <th>3</th>\n",
       "      <td>6032 CHEROKEE DR</td>\n",
       "      <td>54000000</td>\n",
       "      <td>CINCINNATI</td>\n",
       "      <td>1 to 4</td>\n",
       "      <td>YOU'RE ART</td>\n",
       "      <td>4174513798</td>\n",
       "      <td>Less Than $500,000</td>\n",
       "      <td>OH</td>\n",
       "      <td>10+ years</td>\n",
       "      <td>45243</td>\n",
       "    </tr>\n",
       "    <tr>\n",
       "      <th>4</th>\n",
       "      <td>1315 N WOOSTER AVE</td>\n",
       "      <td>54100000</td>\n",
       "      <td>STRASBURG</td>\n",
       "      <td>1 to 4</td>\n",
       "      <td>Hayberg Restoration Network LLC</td>\n",
       "      <td>5135612584</td>\n",
       "      <td>$500,000 to $1 Million</td>\n",
       "      <td>OH</td>\n",
       "      <td>10+ years</td>\n",
       "      <td>44680</td>\n",
       "    </tr>\n",
       "  </tbody>\n",
       "</table>\n",
       "</div>"
      ],
      "text/plain": [
       "                                address category_code        city headcount  \\\n",
       "0          10085 SCRIPPS RANCH CT STE A      44420000   SAN DIEGO  50 to 99   \n",
       "1  2566 SHALLOWFORD RD NE STE 104 # 302      31490000     ATLANTA    1 to 4   \n",
       "2                         212 E MAIN ST      53120000      NEOSHO    1 to 4   \n",
       "3                      6032 CHEROKEE DR      54000000  CINCINNATI    1 to 4   \n",
       "4                    1315 N WOOSTER AVE      54100000   STRASBURG    1 to 4   \n",
       "\n",
       "                              name       phone                 revenue state  \\\n",
       "0                       AMD CUSTOM  3123628000       $20 to 50 Million    CA   \n",
       "1        Real Hope Real Estate Inc         NaN      Less Than $500,000    GA   \n",
       "2         Jimmy Sexton Photography  4046331779      Less Than $500,000    MO   \n",
       "3                       YOU'RE ART  4174513798      Less Than $500,000    OH   \n",
       "4  Hayberg Restoration Network LLC  5135612584  $500,000 to $1 Million    OH   \n",
       "\n",
       "  time_in_business    zip  \n",
       "0        10+ years  92131  \n",
       "1        10+ years  30345  \n",
       "2        10+ years  64850  \n",
       "3        10+ years  45243  \n",
       "4        10+ years  44680  "
      ]
     },
     "execution_count": 17,
     "metadata": {},
     "output_type": "execute_result"
    }
   ],
   "source": [
    "## Let's verify that we do not have \"none\", \"null\", \"\", \" \" and \"0\" anymore and it has been replaced by NaN:\n",
    "print(df_corr.state.dropna().unique())\n",
    "df_corr.head()"
   ]
  },
  {
   "cell_type": "markdown",
   "metadata": {
    "ExecuteTime": {
     "end_time": "2017-09-20T20:07:46.342820Z",
     "start_time": "2017-09-20T20:07:46.340209Z"
    }
   },
   "source": [
    "## 3. Cardinality\n",
    "The cardinality (uniqueness) of each field."
   ]
  },
  {
   "cell_type": "code",
   "execution_count": 18,
   "metadata": {
    "ExecuteTime": {
     "end_time": "2017-09-25T23:48:54.411942Z",
     "start_time": "2017-09-25T23:48:54.403979Z"
    }
   },
   "outputs": [
    {
     "data": {
      "text/html": [
       "<div>\n",
       "<style>\n",
       "    .dataframe thead tr:only-child th {\n",
       "        text-align: right;\n",
       "    }\n",
       "\n",
       "    .dataframe thead th {\n",
       "        text-align: left;\n",
       "    }\n",
       "\n",
       "    .dataframe tbody tr th {\n",
       "        vertical-align: top;\n",
       "    }\n",
       "</style>\n",
       "<table border=\"1\" class=\"dataframe\">\n",
       "  <thead>\n",
       "    <tr style=\"text-align: right;\">\n",
       "      <th></th>\n",
       "      <th>state</th>\n",
       "      <th>address</th>\n",
       "      <th>category_code</th>\n",
       "      <th>city</th>\n",
       "      <th>headcount</th>\n",
       "      <th>name</th>\n",
       "      <th>phone</th>\n",
       "      <th>revenue</th>\n",
       "      <th>time_in_business</th>\n",
       "      <th>zip</th>\n",
       "    </tr>\n",
       "  </thead>\n",
       "  <tbody>\n",
       "    <tr>\n",
       "      <th>0</th>\n",
       "      <td>AK</td>\n",
       "      <td>2514</td>\n",
       "      <td>2515</td>\n",
       "      <td>2515</td>\n",
       "      <td>2419</td>\n",
       "      <td>2515</td>\n",
       "      <td>1503</td>\n",
       "      <td>2368</td>\n",
       "      <td>2297</td>\n",
       "      <td>2515</td>\n",
       "    </tr>\n",
       "    <tr>\n",
       "      <th>1</th>\n",
       "      <td>AL</td>\n",
       "      <td>12171</td>\n",
       "      <td>12171</td>\n",
       "      <td>12172</td>\n",
       "      <td>11712</td>\n",
       "      <td>12171</td>\n",
       "      <td>7191</td>\n",
       "      <td>11482</td>\n",
       "      <td>11129</td>\n",
       "      <td>12170</td>\n",
       "    </tr>\n",
       "    <tr>\n",
       "      <th>2</th>\n",
       "      <td>AR</td>\n",
       "      <td>7377</td>\n",
       "      <td>7377</td>\n",
       "      <td>7376</td>\n",
       "      <td>7083</td>\n",
       "      <td>7377</td>\n",
       "      <td>4364</td>\n",
       "      <td>6964</td>\n",
       "      <td>6758</td>\n",
       "      <td>7376</td>\n",
       "    </tr>\n",
       "    <tr>\n",
       "      <th>3</th>\n",
       "      <td>AZ</td>\n",
       "      <td>18149</td>\n",
       "      <td>18152</td>\n",
       "      <td>18152</td>\n",
       "      <td>17500</td>\n",
       "      <td>18150</td>\n",
       "      <td>10718</td>\n",
       "      <td>17110</td>\n",
       "      <td>16627</td>\n",
       "      <td>18151</td>\n",
       "    </tr>\n",
       "    <tr>\n",
       "      <th>4</th>\n",
       "      <td>CA</td>\n",
       "      <td>122802</td>\n",
       "      <td>122803</td>\n",
       "      <td>122793</td>\n",
       "      <td>118154</td>\n",
       "      <td>122800</td>\n",
       "      <td>72423</td>\n",
       "      <td>115782</td>\n",
       "      <td>112467</td>\n",
       "      <td>122796</td>\n",
       "    </tr>\n",
       "    <tr>\n",
       "      <th>5</th>\n",
       "      <td>CO</td>\n",
       "      <td>21779</td>\n",
       "      <td>21779</td>\n",
       "      <td>21780</td>\n",
       "      <td>20921</td>\n",
       "      <td>21778</td>\n",
       "      <td>12885</td>\n",
       "      <td>20510</td>\n",
       "      <td>19968</td>\n",
       "      <td>21778</td>\n",
       "    </tr>\n",
       "    <tr>\n",
       "      <th>6</th>\n",
       "      <td>CT</td>\n",
       "      <td>15103</td>\n",
       "      <td>15106</td>\n",
       "      <td>15106</td>\n",
       "      <td>14560</td>\n",
       "      <td>15106</td>\n",
       "      <td>9001</td>\n",
       "      <td>14250</td>\n",
       "      <td>13797</td>\n",
       "      <td>15107</td>\n",
       "    </tr>\n",
       "    <tr>\n",
       "      <th>7</th>\n",
       "      <td>DC</td>\n",
       "      <td>4499</td>\n",
       "      <td>4499</td>\n",
       "      <td>4498</td>\n",
       "      <td>4315</td>\n",
       "      <td>4498</td>\n",
       "      <td>2615</td>\n",
       "      <td>4248</td>\n",
       "      <td>4112</td>\n",
       "      <td>4499</td>\n",
       "    </tr>\n",
       "    <tr>\n",
       "      <th>8</th>\n",
       "      <td>DE</td>\n",
       "      <td>2849</td>\n",
       "      <td>2849</td>\n",
       "      <td>2849</td>\n",
       "      <td>2744</td>\n",
       "      <td>2847</td>\n",
       "      <td>1702</td>\n",
       "      <td>2694</td>\n",
       "      <td>2581</td>\n",
       "      <td>2849</td>\n",
       "    </tr>\n",
       "    <tr>\n",
       "      <th>9</th>\n",
       "      <td>FL</td>\n",
       "      <td>63237</td>\n",
       "      <td>63242</td>\n",
       "      <td>63238</td>\n",
       "      <td>60772</td>\n",
       "      <td>63242</td>\n",
       "      <td>37459</td>\n",
       "      <td>59593</td>\n",
       "      <td>58064</td>\n",
       "      <td>63240</td>\n",
       "    </tr>\n",
       "    <tr>\n",
       "      <th>10</th>\n",
       "      <td>GA</td>\n",
       "      <td>29791</td>\n",
       "      <td>29792</td>\n",
       "      <td>29795</td>\n",
       "      <td>28691</td>\n",
       "      <td>29794</td>\n",
       "      <td>17532</td>\n",
       "      <td>28165</td>\n",
       "      <td>27264</td>\n",
       "      <td>29794</td>\n",
       "    </tr>\n",
       "    <tr>\n",
       "      <th>11</th>\n",
       "      <td>HI</td>\n",
       "      <td>3754</td>\n",
       "      <td>3754</td>\n",
       "      <td>3754</td>\n",
       "      <td>3604</td>\n",
       "      <td>3753</td>\n",
       "      <td>2198</td>\n",
       "      <td>3518</td>\n",
       "      <td>3445</td>\n",
       "      <td>3753</td>\n",
       "    </tr>\n",
       "    <tr>\n",
       "      <th>12</th>\n",
       "      <td>IA</td>\n",
       "      <td>10879</td>\n",
       "      <td>10880</td>\n",
       "      <td>10877</td>\n",
       "      <td>10446</td>\n",
       "      <td>10878</td>\n",
       "      <td>6379</td>\n",
       "      <td>10271</td>\n",
       "      <td>9981</td>\n",
       "      <td>10879</td>\n",
       "    </tr>\n",
       "    <tr>\n",
       "      <th>13</th>\n",
       "      <td>ID</td>\n",
       "      <td>5134</td>\n",
       "      <td>5133</td>\n",
       "      <td>5135</td>\n",
       "      <td>4924</td>\n",
       "      <td>5135</td>\n",
       "      <td>3044</td>\n",
       "      <td>4847</td>\n",
       "      <td>4694</td>\n",
       "      <td>5135</td>\n",
       "    </tr>\n",
       "    <tr>\n",
       "      <th>14</th>\n",
       "      <td>IL</td>\n",
       "      <td>44120</td>\n",
       "      <td>44123</td>\n",
       "      <td>44122</td>\n",
       "      <td>42424</td>\n",
       "      <td>44123</td>\n",
       "      <td>25951</td>\n",
       "      <td>41597</td>\n",
       "      <td>40382</td>\n",
       "      <td>44122</td>\n",
       "    </tr>\n",
       "    <tr>\n",
       "      <th>15</th>\n",
       "      <td>IN</td>\n",
       "      <td>19859</td>\n",
       "      <td>19857</td>\n",
       "      <td>19861</td>\n",
       "      <td>19111</td>\n",
       "      <td>19859</td>\n",
       "      <td>11817</td>\n",
       "      <td>18742</td>\n",
       "      <td>18199</td>\n",
       "      <td>19859</td>\n",
       "    </tr>\n",
       "    <tr>\n",
       "      <th>16</th>\n",
       "      <td>KS</td>\n",
       "      <td>10523</td>\n",
       "      <td>10522</td>\n",
       "      <td>10523</td>\n",
       "      <td>10157</td>\n",
       "      <td>10523</td>\n",
       "      <td>6245</td>\n",
       "      <td>9916</td>\n",
       "      <td>9663</td>\n",
       "      <td>10522</td>\n",
       "    </tr>\n",
       "    <tr>\n",
       "      <th>17</th>\n",
       "      <td>KY</td>\n",
       "      <td>11392</td>\n",
       "      <td>11393</td>\n",
       "      <td>11391</td>\n",
       "      <td>10985</td>\n",
       "      <td>11393</td>\n",
       "      <td>6712</td>\n",
       "      <td>10742</td>\n",
       "      <td>10389</td>\n",
       "      <td>11392</td>\n",
       "    </tr>\n",
       "    <tr>\n",
       "      <th>18</th>\n",
       "      <td>LA</td>\n",
       "      <td>12229</td>\n",
       "      <td>12227</td>\n",
       "      <td>12227</td>\n",
       "      <td>11766</td>\n",
       "      <td>12227</td>\n",
       "      <td>7321</td>\n",
       "      <td>11548</td>\n",
       "      <td>11232</td>\n",
       "      <td>12227</td>\n",
       "    </tr>\n",
       "    <tr>\n",
       "      <th>19</th>\n",
       "      <td>MA</td>\n",
       "      <td>30012</td>\n",
       "      <td>30010</td>\n",
       "      <td>30012</td>\n",
       "      <td>28888</td>\n",
       "      <td>30009</td>\n",
       "      <td>17803</td>\n",
       "      <td>28272</td>\n",
       "      <td>27506</td>\n",
       "      <td>30010</td>\n",
       "    </tr>\n",
       "    <tr>\n",
       "      <th>20</th>\n",
       "      <td>MD</td>\n",
       "      <td>19968</td>\n",
       "      <td>19969</td>\n",
       "      <td>19971</td>\n",
       "      <td>19242</td>\n",
       "      <td>19973</td>\n",
       "      <td>11880</td>\n",
       "      <td>18804</td>\n",
       "      <td>18316</td>\n",
       "      <td>19972</td>\n",
       "    </tr>\n",
       "    <tr>\n",
       "      <th>21</th>\n",
       "      <td>ME</td>\n",
       "      <td>5793</td>\n",
       "      <td>5792</td>\n",
       "      <td>5792</td>\n",
       "      <td>5585</td>\n",
       "      <td>5792</td>\n",
       "      <td>3455</td>\n",
       "      <td>5452</td>\n",
       "      <td>5305</td>\n",
       "      <td>5793</td>\n",
       "    </tr>\n",
       "    <tr>\n",
       "      <th>22</th>\n",
       "      <td>MI</td>\n",
       "      <td>31233</td>\n",
       "      <td>31236</td>\n",
       "      <td>31234</td>\n",
       "      <td>30052</td>\n",
       "      <td>31232</td>\n",
       "      <td>18486</td>\n",
       "      <td>29466</td>\n",
       "      <td>28588</td>\n",
       "      <td>31232</td>\n",
       "    </tr>\n",
       "    <tr>\n",
       "      <th>23</th>\n",
       "      <td>MN</td>\n",
       "      <td>22241</td>\n",
       "      <td>22243</td>\n",
       "      <td>22238</td>\n",
       "      <td>21428</td>\n",
       "      <td>22238</td>\n",
       "      <td>13062</td>\n",
       "      <td>21001</td>\n",
       "      <td>20410</td>\n",
       "      <td>22240</td>\n",
       "    </tr>\n",
       "    <tr>\n",
       "      <th>24</th>\n",
       "      <td>MO</td>\n",
       "      <td>19554</td>\n",
       "      <td>19558</td>\n",
       "      <td>19556</td>\n",
       "      <td>18796</td>\n",
       "      <td>19555</td>\n",
       "      <td>11459</td>\n",
       "      <td>18437</td>\n",
       "      <td>17924</td>\n",
       "      <td>19558</td>\n",
       "    </tr>\n",
       "    <tr>\n",
       "      <th>25</th>\n",
       "      <td>MS</td>\n",
       "      <td>5864</td>\n",
       "      <td>5864</td>\n",
       "      <td>5862</td>\n",
       "      <td>5646</td>\n",
       "      <td>5864</td>\n",
       "      <td>3456</td>\n",
       "      <td>5517</td>\n",
       "      <td>5382</td>\n",
       "      <td>5864</td>\n",
       "    </tr>\n",
       "    <tr>\n",
       "      <th>26</th>\n",
       "      <td>MT</td>\n",
       "      <td>3816</td>\n",
       "      <td>3817</td>\n",
       "      <td>3817</td>\n",
       "      <td>3665</td>\n",
       "      <td>3817</td>\n",
       "      <td>2281</td>\n",
       "      <td>3619</td>\n",
       "      <td>3499</td>\n",
       "      <td>3817</td>\n",
       "    </tr>\n",
       "    <tr>\n",
       "      <th>27</th>\n",
       "      <td>NC</td>\n",
       "      <td>30387</td>\n",
       "      <td>30388</td>\n",
       "      <td>30388</td>\n",
       "      <td>29255</td>\n",
       "      <td>30387</td>\n",
       "      <td>18001</td>\n",
       "      <td>28716</td>\n",
       "      <td>27800</td>\n",
       "      <td>30385</td>\n",
       "    </tr>\n",
       "    <tr>\n",
       "      <th>28</th>\n",
       "      <td>ND</td>\n",
       "      <td>2315</td>\n",
       "      <td>2315</td>\n",
       "      <td>2315</td>\n",
       "      <td>2247</td>\n",
       "      <td>2315</td>\n",
       "      <td>1379</td>\n",
       "      <td>2171</td>\n",
       "      <td>2119</td>\n",
       "      <td>2315</td>\n",
       "    </tr>\n",
       "    <tr>\n",
       "      <th>29</th>\n",
       "      <td>NE</td>\n",
       "      <td>7079</td>\n",
       "      <td>7080</td>\n",
       "      <td>7079</td>\n",
       "      <td>6832</td>\n",
       "      <td>7078</td>\n",
       "      <td>4114</td>\n",
       "      <td>6671</td>\n",
       "      <td>6507</td>\n",
       "      <td>7079</td>\n",
       "    </tr>\n",
       "    <tr>\n",
       "      <th>30</th>\n",
       "      <td>NH</td>\n",
       "      <td>6139</td>\n",
       "      <td>6139</td>\n",
       "      <td>6138</td>\n",
       "      <td>5905</td>\n",
       "      <td>6139</td>\n",
       "      <td>3619</td>\n",
       "      <td>5836</td>\n",
       "      <td>5605</td>\n",
       "      <td>6139</td>\n",
       "    </tr>\n",
       "    <tr>\n",
       "      <th>31</th>\n",
       "      <td>NJ</td>\n",
       "      <td>28835</td>\n",
       "      <td>28835</td>\n",
       "      <td>28836</td>\n",
       "      <td>27749</td>\n",
       "      <td>28835</td>\n",
       "      <td>16957</td>\n",
       "      <td>27231</td>\n",
       "      <td>26538</td>\n",
       "      <td>28835</td>\n",
       "    </tr>\n",
       "    <tr>\n",
       "      <th>32</th>\n",
       "      <td>NM</td>\n",
       "      <td>5076</td>\n",
       "      <td>5075</td>\n",
       "      <td>5075</td>\n",
       "      <td>4882</td>\n",
       "      <td>5076</td>\n",
       "      <td>2974</td>\n",
       "      <td>4806</td>\n",
       "      <td>4638</td>\n",
       "      <td>5076</td>\n",
       "    </tr>\n",
       "    <tr>\n",
       "      <th>33</th>\n",
       "      <td>NV</td>\n",
       "      <td>6700</td>\n",
       "      <td>6699</td>\n",
       "      <td>6697</td>\n",
       "      <td>6471</td>\n",
       "      <td>6699</td>\n",
       "      <td>3946</td>\n",
       "      <td>6309</td>\n",
       "      <td>6101</td>\n",
       "      <td>6699</td>\n",
       "    </tr>\n",
       "    <tr>\n",
       "      <th>34</th>\n",
       "      <td>NY</td>\n",
       "      <td>57405</td>\n",
       "      <td>57407</td>\n",
       "      <td>57401</td>\n",
       "      <td>55257</td>\n",
       "      <td>57406</td>\n",
       "      <td>33989</td>\n",
       "      <td>54062</td>\n",
       "      <td>52675</td>\n",
       "      <td>57404</td>\n",
       "    </tr>\n",
       "    <tr>\n",
       "      <th>35</th>\n",
       "      <td>OH</td>\n",
       "      <td>36517</td>\n",
       "      <td>36518</td>\n",
       "      <td>36517</td>\n",
       "      <td>35140</td>\n",
       "      <td>36522</td>\n",
       "      <td>21614</td>\n",
       "      <td>34482</td>\n",
       "      <td>33449</td>\n",
       "      <td>36522</td>\n",
       "    </tr>\n",
       "    <tr>\n",
       "      <th>36</th>\n",
       "      <td>OK</td>\n",
       "      <td>10455</td>\n",
       "      <td>10454</td>\n",
       "      <td>10453</td>\n",
       "      <td>10053</td>\n",
       "      <td>10456</td>\n",
       "      <td>6130</td>\n",
       "      <td>9856</td>\n",
       "      <td>9623</td>\n",
       "      <td>10453</td>\n",
       "    </tr>\n",
       "    <tr>\n",
       "      <th>37</th>\n",
       "      <td>OR</td>\n",
       "      <td>15690</td>\n",
       "      <td>15689</td>\n",
       "      <td>15688</td>\n",
       "      <td>15150</td>\n",
       "      <td>15690</td>\n",
       "      <td>9247</td>\n",
       "      <td>14783</td>\n",
       "      <td>14344</td>\n",
       "      <td>15687</td>\n",
       "    </tr>\n",
       "    <tr>\n",
       "      <th>38</th>\n",
       "      <td>PA</td>\n",
       "      <td>40605</td>\n",
       "      <td>40601</td>\n",
       "      <td>40606</td>\n",
       "      <td>39071</td>\n",
       "      <td>40605</td>\n",
       "      <td>24057</td>\n",
       "      <td>38260</td>\n",
       "      <td>37232</td>\n",
       "      <td>40600</td>\n",
       "    </tr>\n",
       "    <tr>\n",
       "      <th>39</th>\n",
       "      <td>PR</td>\n",
       "      <td>2</td>\n",
       "      <td>2</td>\n",
       "      <td>2</td>\n",
       "      <td>2</td>\n",
       "      <td>2</td>\n",
       "      <td>1</td>\n",
       "      <td>2</td>\n",
       "      <td>2</td>\n",
       "      <td>2</td>\n",
       "    </tr>\n",
       "    <tr>\n",
       "      <th>40</th>\n",
       "      <td>RI</td>\n",
       "      <td>3880</td>\n",
       "      <td>3880</td>\n",
       "      <td>3879</td>\n",
       "      <td>3735</td>\n",
       "      <td>3878</td>\n",
       "      <td>2239</td>\n",
       "      <td>3657</td>\n",
       "      <td>3573</td>\n",
       "      <td>3880</td>\n",
       "    </tr>\n",
       "    <tr>\n",
       "      <th>41</th>\n",
       "      <td>SC</td>\n",
       "      <td>12842</td>\n",
       "      <td>12840</td>\n",
       "      <td>12842</td>\n",
       "      <td>12324</td>\n",
       "      <td>12841</td>\n",
       "      <td>7549</td>\n",
       "      <td>12119</td>\n",
       "      <td>11810</td>\n",
       "      <td>12841</td>\n",
       "    </tr>\n",
       "    <tr>\n",
       "      <th>42</th>\n",
       "      <td>SD</td>\n",
       "      <td>3304</td>\n",
       "      <td>3306</td>\n",
       "      <td>3306</td>\n",
       "      <td>3174</td>\n",
       "      <td>3306</td>\n",
       "      <td>1953</td>\n",
       "      <td>3117</td>\n",
       "      <td>3053</td>\n",
       "      <td>3306</td>\n",
       "    </tr>\n",
       "    <tr>\n",
       "      <th>43</th>\n",
       "      <td>TN</td>\n",
       "      <td>18444</td>\n",
       "      <td>18443</td>\n",
       "      <td>18443</td>\n",
       "      <td>17729</td>\n",
       "      <td>18443</td>\n",
       "      <td>10902</td>\n",
       "      <td>17408</td>\n",
       "      <td>16861</td>\n",
       "      <td>18442</td>\n",
       "    </tr>\n",
       "    <tr>\n",
       "      <th>44</th>\n",
       "      <td>TX</td>\n",
       "      <td>70298</td>\n",
       "      <td>70296</td>\n",
       "      <td>70296</td>\n",
       "      <td>67716</td>\n",
       "      <td>70294</td>\n",
       "      <td>41598</td>\n",
       "      <td>66246</td>\n",
       "      <td>64312</td>\n",
       "      <td>70291</td>\n",
       "    </tr>\n",
       "    <tr>\n",
       "      <th>45</th>\n",
       "      <td>UT</td>\n",
       "      <td>8871</td>\n",
       "      <td>8871</td>\n",
       "      <td>8872</td>\n",
       "      <td>8520</td>\n",
       "      <td>8873</td>\n",
       "      <td>5167</td>\n",
       "      <td>8373</td>\n",
       "      <td>8147</td>\n",
       "      <td>8873</td>\n",
       "    </tr>\n",
       "    <tr>\n",
       "      <th>46</th>\n",
       "      <td>VA</td>\n",
       "      <td>27158</td>\n",
       "      <td>27156</td>\n",
       "      <td>27160</td>\n",
       "      <td>26137</td>\n",
       "      <td>27160</td>\n",
       "      <td>16218</td>\n",
       "      <td>25636</td>\n",
       "      <td>24815</td>\n",
       "      <td>27160</td>\n",
       "    </tr>\n",
       "    <tr>\n",
       "      <th>47</th>\n",
       "      <td>VI</td>\n",
       "      <td>1</td>\n",
       "      <td>1</td>\n",
       "      <td>1</td>\n",
       "      <td>1</td>\n",
       "      <td>1</td>\n",
       "      <td>1</td>\n",
       "      <td>1</td>\n",
       "      <td>1</td>\n",
       "      <td>1</td>\n",
       "    </tr>\n",
       "    <tr>\n",
       "      <th>48</th>\n",
       "      <td>VT</td>\n",
       "      <td>3029</td>\n",
       "      <td>3029</td>\n",
       "      <td>3029</td>\n",
       "      <td>2914</td>\n",
       "      <td>3029</td>\n",
       "      <td>1770</td>\n",
       "      <td>2853</td>\n",
       "      <td>2778</td>\n",
       "      <td>3029</td>\n",
       "    </tr>\n",
       "    <tr>\n",
       "      <th>49</th>\n",
       "      <td>WA</td>\n",
       "      <td>24291</td>\n",
       "      <td>24293</td>\n",
       "      <td>24295</td>\n",
       "      <td>23402</td>\n",
       "      <td>24294</td>\n",
       "      <td>14273</td>\n",
       "      <td>22927</td>\n",
       "      <td>22228</td>\n",
       "      <td>24293</td>\n",
       "    </tr>\n",
       "    <tr>\n",
       "      <th>50</th>\n",
       "      <td>WI</td>\n",
       "      <td>18754</td>\n",
       "      <td>18751</td>\n",
       "      <td>18752</td>\n",
       "      <td>18020</td>\n",
       "      <td>18753</td>\n",
       "      <td>11126</td>\n",
       "      <td>17690</td>\n",
       "      <td>17105</td>\n",
       "      <td>18749</td>\n",
       "    </tr>\n",
       "    <tr>\n",
       "      <th>51</th>\n",
       "      <td>WV</td>\n",
       "      <td>3217</td>\n",
       "      <td>3217</td>\n",
       "      <td>3217</td>\n",
       "      <td>3107</td>\n",
       "      <td>3217</td>\n",
       "      <td>1870</td>\n",
       "      <td>3020</td>\n",
       "      <td>2934</td>\n",
       "      <td>3217</td>\n",
       "    </tr>\n",
       "    <tr>\n",
       "      <th>52</th>\n",
       "      <td>WY</td>\n",
       "      <td>1858</td>\n",
       "      <td>1858</td>\n",
       "      <td>1858</td>\n",
       "      <td>1786</td>\n",
       "      <td>1858</td>\n",
       "      <td>1106</td>\n",
       "      <td>1756</td>\n",
       "      <td>1718</td>\n",
       "      <td>1858</td>\n",
       "    </tr>\n",
       "  </tbody>\n",
       "</table>\n",
       "</div>"
      ],
      "text/plain": [
       "   state  address  category_code    city  headcount    name  phone  revenue  \\\n",
       "0     AK     2514           2515    2515       2419    2515   1503     2368   \n",
       "1     AL    12171          12171   12172      11712   12171   7191    11482   \n",
       "2     AR     7377           7377    7376       7083    7377   4364     6964   \n",
       "3     AZ    18149          18152   18152      17500   18150  10718    17110   \n",
       "4     CA   122802         122803  122793     118154  122800  72423   115782   \n",
       "5     CO    21779          21779   21780      20921   21778  12885    20510   \n",
       "6     CT    15103          15106   15106      14560   15106   9001    14250   \n",
       "7     DC     4499           4499    4498       4315    4498   2615     4248   \n",
       "8     DE     2849           2849    2849       2744    2847   1702     2694   \n",
       "9     FL    63237          63242   63238      60772   63242  37459    59593   \n",
       "10    GA    29791          29792   29795      28691   29794  17532    28165   \n",
       "11    HI     3754           3754    3754       3604    3753   2198     3518   \n",
       "12    IA    10879          10880   10877      10446   10878   6379    10271   \n",
       "13    ID     5134           5133    5135       4924    5135   3044     4847   \n",
       "14    IL    44120          44123   44122      42424   44123  25951    41597   \n",
       "15    IN    19859          19857   19861      19111   19859  11817    18742   \n",
       "16    KS    10523          10522   10523      10157   10523   6245     9916   \n",
       "17    KY    11392          11393   11391      10985   11393   6712    10742   \n",
       "18    LA    12229          12227   12227      11766   12227   7321    11548   \n",
       "19    MA    30012          30010   30012      28888   30009  17803    28272   \n",
       "20    MD    19968          19969   19971      19242   19973  11880    18804   \n",
       "21    ME     5793           5792    5792       5585    5792   3455     5452   \n",
       "22    MI    31233          31236   31234      30052   31232  18486    29466   \n",
       "23    MN    22241          22243   22238      21428   22238  13062    21001   \n",
       "24    MO    19554          19558   19556      18796   19555  11459    18437   \n",
       "25    MS     5864           5864    5862       5646    5864   3456     5517   \n",
       "26    MT     3816           3817    3817       3665    3817   2281     3619   \n",
       "27    NC    30387          30388   30388      29255   30387  18001    28716   \n",
       "28    ND     2315           2315    2315       2247    2315   1379     2171   \n",
       "29    NE     7079           7080    7079       6832    7078   4114     6671   \n",
       "30    NH     6139           6139    6138       5905    6139   3619     5836   \n",
       "31    NJ    28835          28835   28836      27749   28835  16957    27231   \n",
       "32    NM     5076           5075    5075       4882    5076   2974     4806   \n",
       "33    NV     6700           6699    6697       6471    6699   3946     6309   \n",
       "34    NY    57405          57407   57401      55257   57406  33989    54062   \n",
       "35    OH    36517          36518   36517      35140   36522  21614    34482   \n",
       "36    OK    10455          10454   10453      10053   10456   6130     9856   \n",
       "37    OR    15690          15689   15688      15150   15690   9247    14783   \n",
       "38    PA    40605          40601   40606      39071   40605  24057    38260   \n",
       "39    PR        2              2       2          2       2      1        2   \n",
       "40    RI     3880           3880    3879       3735    3878   2239     3657   \n",
       "41    SC    12842          12840   12842      12324   12841   7549    12119   \n",
       "42    SD     3304           3306    3306       3174    3306   1953     3117   \n",
       "43    TN    18444          18443   18443      17729   18443  10902    17408   \n",
       "44    TX    70298          70296   70296      67716   70294  41598    66246   \n",
       "45    UT     8871           8871    8872       8520    8873   5167     8373   \n",
       "46    VA    27158          27156   27160      26137   27160  16218    25636   \n",
       "47    VI        1              1       1          1       1      1        1   \n",
       "48    VT     3029           3029    3029       2914    3029   1770     2853   \n",
       "49    WA    24291          24293   24295      23402   24294  14273    22927   \n",
       "50    WI    18754          18751   18752      18020   18753  11126    17690   \n",
       "51    WV     3217           3217    3217       3107    3217   1870     3020   \n",
       "52    WY     1858           1858    1858       1786    1858   1106     1756   \n",
       "\n",
       "    time_in_business     zip  \n",
       "0               2297    2515  \n",
       "1              11129   12170  \n",
       "2               6758    7376  \n",
       "3              16627   18151  \n",
       "4             112467  122796  \n",
       "5              19968   21778  \n",
       "6              13797   15107  \n",
       "7               4112    4499  \n",
       "8               2581    2849  \n",
       "9              58064   63240  \n",
       "10             27264   29794  \n",
       "11              3445    3753  \n",
       "12              9981   10879  \n",
       "13              4694    5135  \n",
       "14             40382   44122  \n",
       "15             18199   19859  \n",
       "16              9663   10522  \n",
       "17             10389   11392  \n",
       "18             11232   12227  \n",
       "19             27506   30010  \n",
       "20             18316   19972  \n",
       "21              5305    5793  \n",
       "22             28588   31232  \n",
       "23             20410   22240  \n",
       "24             17924   19558  \n",
       "25              5382    5864  \n",
       "26              3499    3817  \n",
       "27             27800   30385  \n",
       "28              2119    2315  \n",
       "29              6507    7079  \n",
       "30              5605    6139  \n",
       "31             26538   28835  \n",
       "32              4638    5076  \n",
       "33              6101    6699  \n",
       "34             52675   57404  \n",
       "35             33449   36522  \n",
       "36              9623   10453  \n",
       "37             14344   15687  \n",
       "38             37232   40600  \n",
       "39                 2       2  \n",
       "40              3573    3880  \n",
       "41             11810   12841  \n",
       "42              3053    3306  \n",
       "43             16861   18442  \n",
       "44             64312   70291  \n",
       "45              8147    8873  \n",
       "46             24815   27160  \n",
       "47                 1       1  \n",
       "48              2778    3029  \n",
       "49             22228   24293  \n",
       "50             17105   18749  \n",
       "51              2934    3217  \n",
       "52              1718    1858  "
      ]
     },
     "execution_count": 18,
     "metadata": {},
     "output_type": "execute_result"
    }
   ],
   "source": [
    "## How many different States there are?\n",
    "df_corr.groupby('state').count().dropna().reset_index()"
   ]
  },
  {
   "cell_type": "markdown",
   "metadata": {},
   "source": [
    "There are 53 States in the US?! Are \"PR\" and \"VI\" wrong entries?"
   ]
  },
  {
   "cell_type": "code",
   "execution_count": 45,
   "metadata": {
    "ExecuteTime": {
     "end_time": "2017-09-25T23:48:54.468442Z",
     "start_time": "2017-09-25T23:48:54.460887Z"
    }
   },
   "outputs": [
    {
     "data": {
      "text/html": [
       "<div>\n",
       "<style>\n",
       "    .dataframe thead tr:only-child th {\n",
       "        text-align: right;\n",
       "    }\n",
       "\n",
       "    .dataframe thead th {\n",
       "        text-align: left;\n",
       "    }\n",
       "\n",
       "    .dataframe tbody tr th {\n",
       "        vertical-align: top;\n",
       "    }\n",
       "</style>\n",
       "<table border=\"1\" class=\"dataframe\">\n",
       "  <thead>\n",
       "    <tr style=\"text-align: right;\">\n",
       "      <th></th>\n",
       "      <th>address</th>\n",
       "      <th>category_code</th>\n",
       "      <th>city</th>\n",
       "      <th>headcount</th>\n",
       "      <th>name</th>\n",
       "      <th>phone</th>\n",
       "      <th>revenue</th>\n",
       "      <th>state</th>\n",
       "      <th>time_in_business</th>\n",
       "      <th>zip</th>\n",
       "      <th>sector_code</th>\n",
       "    </tr>\n",
       "  </thead>\n",
       "  <tbody>\n",
       "    <tr>\n",
       "      <th>38402</th>\n",
       "      <td>5030 ANCHOR WAY STE 9</td>\n",
       "      <td>54161800</td>\n",
       "      <td>CHRISTIANSTED</td>\n",
       "      <td>1 to 4</td>\n",
       "      <td>Logan Diving &amp; Salvage</td>\n",
       "      <td>6182126800</td>\n",
       "      <td>$1 to 2.5 Million</td>\n",
       "      <td>VI</td>\n",
       "      <td>10+ years</td>\n",
       "      <td>00820</td>\n",
       "      <td>54</td>\n",
       "    </tr>\n",
       "    <tr>\n",
       "      <th>81903</th>\n",
       "      <td>6050 AVE ISLA VERDE</td>\n",
       "      <td>45000000</td>\n",
       "      <td>CAROLINA</td>\n",
       "      <td>1 to 4</td>\n",
       "      <td>St. Andrew's Anglican Church</td>\n",
       "      <td>8187727489</td>\n",
       "      <td>Less Than $500,000</td>\n",
       "      <td>PR</td>\n",
       "      <td>6-10 years</td>\n",
       "      <td>00979</td>\n",
       "      <td>45</td>\n",
       "    </tr>\n",
       "    <tr>\n",
       "      <th>306479</th>\n",
       "      <td>253 CALLE DE LA FORTALEZA</td>\n",
       "      <td>61169900</td>\n",
       "      <td>SAN JUAN</td>\n",
       "      <td>50 to 99</td>\n",
       "      <td>Plateau Medical Center</td>\n",
       "      <td>NaN</td>\n",
       "      <td>Less Than $500,000</td>\n",
       "      <td>PR</td>\n",
       "      <td>10+ years</td>\n",
       "      <td>00901</td>\n",
       "      <td>61</td>\n",
       "    </tr>\n",
       "  </tbody>\n",
       "</table>\n",
       "</div>"
      ],
      "text/plain": [
       "                          address category_code           city headcount  \\\n",
       "38402       5030 ANCHOR WAY STE 9      54161800  CHRISTIANSTED    1 to 4   \n",
       "81903         6050 AVE ISLA VERDE      45000000       CAROLINA    1 to 4   \n",
       "306479  253 CALLE DE LA FORTALEZA      61169900       SAN JUAN  50 to 99   \n",
       "\n",
       "                                name       phone             revenue state  \\\n",
       "38402         Logan Diving & Salvage  6182126800   $1 to 2.5 Million    VI   \n",
       "81903   St. Andrew's Anglican Church  8187727489  Less Than $500,000    PR   \n",
       "306479        Plateau Medical Center         NaN  Less Than $500,000    PR   \n",
       "\n",
       "       time_in_business    zip sector_code  \n",
       "38402         10+ years  00820          54  \n",
       "81903        6-10 years  00979          45  \n",
       "306479        10+ years  00901          61  "
      ]
     },
     "execution_count": 45,
     "metadata": {},
     "output_type": "execute_result"
    }
   ],
   "source": [
    "#DC corresponds to District of Columbia, which is not a state.\n",
    "df_corr[(df_corr['state']=='PR') | (df_corr['state']=='VI')]"
   ]
  },
  {
   "cell_type": "markdown",
   "metadata": {},
   "source": [
    "Checking the address of these entries, \"PR\" corresponds to \"Puerto Rico\" and \"VI\" corresponds to \"British Virgin Islands\", corresponding to the USPS code. \"DC\" corresponds to \"District of Columbia\", which is not a US state."
   ]
  },
  {
   "cell_type": "code",
   "execution_count": 20,
   "metadata": {
    "ExecuteTime": {
     "end_time": "2017-09-25T23:48:54.529068Z",
     "start_time": "2017-09-25T23:48:54.519872Z"
    }
   },
   "outputs": [
    {
     "name": "stdout",
     "output_type": "stream",
     "text": [
      "Different headcount groups: ['50 to 99' '1 to 4' '5 to 9' '10 to 19' '20 to 49' '100 to 249'\n",
      " '250 to 499' '500 to 999' 'Over 1,000']\n"
     ]
    },
    {
     "data": {
      "text/html": [
       "<div>\n",
       "<style>\n",
       "    .dataframe thead tr:only-child th {\n",
       "        text-align: right;\n",
       "    }\n",
       "\n",
       "    .dataframe thead th {\n",
       "        text-align: left;\n",
       "    }\n",
       "\n",
       "    .dataframe tbody tr th {\n",
       "        vertical-align: top;\n",
       "    }\n",
       "</style>\n",
       "<table border=\"1\" class=\"dataframe\">\n",
       "  <thead>\n",
       "    <tr style=\"text-align: right;\">\n",
       "      <th></th>\n",
       "      <th>headcount</th>\n",
       "      <th>address</th>\n",
       "      <th>category_code</th>\n",
       "      <th>city</th>\n",
       "      <th>name</th>\n",
       "      <th>phone</th>\n",
       "      <th>revenue</th>\n",
       "      <th>state</th>\n",
       "      <th>time_in_business</th>\n",
       "      <th>zip</th>\n",
       "    </tr>\n",
       "  </thead>\n",
       "  <tbody>\n",
       "    <tr>\n",
       "      <th>0</th>\n",
       "      <td>1 to 4</td>\n",
       "      <td>358169</td>\n",
       "      <td>358167</td>\n",
       "      <td>358164</td>\n",
       "      <td>358177</td>\n",
       "      <td>211823</td>\n",
       "      <td>337665</td>\n",
       "      <td>358161</td>\n",
       "      <td>328304</td>\n",
       "      <td>358157</td>\n",
       "    </tr>\n",
       "    <tr>\n",
       "      <th>1</th>\n",
       "      <td>10 to 19</td>\n",
       "      <td>151395</td>\n",
       "      <td>151405</td>\n",
       "      <td>151398</td>\n",
       "      <td>151396</td>\n",
       "      <td>89295</td>\n",
       "      <td>142797</td>\n",
       "      <td>151400</td>\n",
       "      <td>138607</td>\n",
       "      <td>151396</td>\n",
       "    </tr>\n",
       "    <tr>\n",
       "      <th>2</th>\n",
       "      <td>100 to 249</td>\n",
       "      <td>36472</td>\n",
       "      <td>36470</td>\n",
       "      <td>36473</td>\n",
       "      <td>36470</td>\n",
       "      <td>21388</td>\n",
       "      <td>34387</td>\n",
       "      <td>36473</td>\n",
       "      <td>33428</td>\n",
       "      <td>36470</td>\n",
       "    </tr>\n",
       "    <tr>\n",
       "      <th>3</th>\n",
       "      <td>20 to 49</td>\n",
       "      <td>121249</td>\n",
       "      <td>121248</td>\n",
       "      <td>121250</td>\n",
       "      <td>121250</td>\n",
       "      <td>71429</td>\n",
       "      <td>114321</td>\n",
       "      <td>121247</td>\n",
       "      <td>111005</td>\n",
       "      <td>121254</td>\n",
       "    </tr>\n",
       "    <tr>\n",
       "      <th>4</th>\n",
       "      <td>250 to 499</td>\n",
       "      <td>11136</td>\n",
       "      <td>11137</td>\n",
       "      <td>11138</td>\n",
       "      <td>11136</td>\n",
       "      <td>6663</td>\n",
       "      <td>10491</td>\n",
       "      <td>11137</td>\n",
       "      <td>10249</td>\n",
       "      <td>11138</td>\n",
       "    </tr>\n",
       "    <tr>\n",
       "      <th>5</th>\n",
       "      <td>5 to 9</td>\n",
       "      <td>212380</td>\n",
       "      <td>212385</td>\n",
       "      <td>212380</td>\n",
       "      <td>212390</td>\n",
       "      <td>125620</td>\n",
       "      <td>200338</td>\n",
       "      <td>212383</td>\n",
       "      <td>194501</td>\n",
       "      <td>212381</td>\n",
       "    </tr>\n",
       "    <tr>\n",
       "      <th>6</th>\n",
       "      <td>50 to 99</td>\n",
       "      <td>60524</td>\n",
       "      <td>60522</td>\n",
       "      <td>60520</td>\n",
       "      <td>60518</td>\n",
       "      <td>35803</td>\n",
       "      <td>57142</td>\n",
       "      <td>60519</td>\n",
       "      <td>55553</td>\n",
       "      <td>60521</td>\n",
       "    </tr>\n",
       "    <tr>\n",
       "      <th>7</th>\n",
       "      <td>500 to 999</td>\n",
       "      <td>5250</td>\n",
       "      <td>5250</td>\n",
       "      <td>5249</td>\n",
       "      <td>5250</td>\n",
       "      <td>3108</td>\n",
       "      <td>4946</td>\n",
       "      <td>5249</td>\n",
       "      <td>4828</td>\n",
       "      <td>5250</td>\n",
       "    </tr>\n",
       "    <tr>\n",
       "      <th>8</th>\n",
       "      <td>Over 1,000</td>\n",
       "      <td>5599</td>\n",
       "      <td>5600</td>\n",
       "      <td>5600</td>\n",
       "      <td>5599</td>\n",
       "      <td>3272</td>\n",
       "      <td>5298</td>\n",
       "      <td>5600</td>\n",
       "      <td>5105</td>\n",
       "      <td>5600</td>\n",
       "    </tr>\n",
       "  </tbody>\n",
       "</table>\n",
       "</div>"
      ],
      "text/plain": [
       "    headcount  address  category_code    city    name   phone  revenue  \\\n",
       "0      1 to 4   358169         358167  358164  358177  211823   337665   \n",
       "1    10 to 19   151395         151405  151398  151396   89295   142797   \n",
       "2  100 to 249    36472          36470   36473   36470   21388    34387   \n",
       "3    20 to 49   121249         121248  121250  121250   71429   114321   \n",
       "4  250 to 499    11136          11137   11138   11136    6663    10491   \n",
       "5      5 to 9   212380         212385  212380  212390  125620   200338   \n",
       "6    50 to 99    60524          60522   60520   60518   35803    57142   \n",
       "7  500 to 999     5250           5250    5249    5250    3108     4946   \n",
       "8  Over 1,000     5599           5600    5600    5599    3272     5298   \n",
       "\n",
       "    state  time_in_business     zip  \n",
       "0  358161            328304  358157  \n",
       "1  151400            138607  151396  \n",
       "2   36473             33428   36470  \n",
       "3  121247            111005  121254  \n",
       "4   11137             10249   11138  \n",
       "5  212383            194501  212381  \n",
       "6   60519             55553   60521  \n",
       "7    5249              4828    5250  \n",
       "8    5600              5105    5600  "
      ]
     },
     "execution_count": 20,
     "metadata": {},
     "output_type": "execute_result"
    }
   ],
   "source": [
    "## How many different headcounts there are?\n",
    "print('Different headcount groups:', df_corr.headcount.dropna().unique())\n",
    "df_corr.groupby('headcount').count().dropna().reset_index()"
   ]
  },
  {
   "cell_type": "markdown",
   "metadata": {},
   "source": [
    "There are 9 different entries for \"headcount\", meaning that the bussiness are divided into 9 different groups according to the number of employess: '1 to 4', '5 to 9', '10 to 19', '20 to 49', '50 to 99', '100 to 249', '250 to 499', '500 to 999' and 'Over 1,000'"
   ]
  },
  {
   "cell_type": "code",
   "execution_count": 21,
   "metadata": {
    "ExecuteTime": {
     "end_time": "2017-09-25T23:48:54.584224Z",
     "start_time": "2017-09-25T23:48:54.575640Z"
    }
   },
   "outputs": [
    {
     "data": {
      "text/html": [
       "<div>\n",
       "<style>\n",
       "    .dataframe thead tr:only-child th {\n",
       "        text-align: right;\n",
       "    }\n",
       "\n",
       "    .dataframe thead th {\n",
       "        text-align: left;\n",
       "    }\n",
       "\n",
       "    .dataframe tbody tr th {\n",
       "        vertical-align: top;\n",
       "    }\n",
       "</style>\n",
       "<table border=\"1\" class=\"dataframe\">\n",
       "  <thead>\n",
       "    <tr style=\"text-align: right;\">\n",
       "      <th></th>\n",
       "      <th>category_code</th>\n",
       "      <th>address</th>\n",
       "      <th>city</th>\n",
       "      <th>headcount</th>\n",
       "      <th>name</th>\n",
       "      <th>phone</th>\n",
       "      <th>revenue</th>\n",
       "      <th>state</th>\n",
       "      <th>time_in_business</th>\n",
       "      <th>zip</th>\n",
       "    </tr>\n",
       "  </thead>\n",
       "  <tbody>\n",
       "    <tr>\n",
       "      <th>1173</th>\n",
       "      <td>92615000</td>\n",
       "      <td>102</td>\n",
       "      <td>102</td>\n",
       "      <td>96</td>\n",
       "      <td>102</td>\n",
       "      <td>62</td>\n",
       "      <td>96</td>\n",
       "      <td>102</td>\n",
       "      <td>91</td>\n",
       "      <td>102</td>\n",
       "    </tr>\n",
       "    <tr>\n",
       "      <th>1174</th>\n",
       "      <td>92711000</td>\n",
       "      <td>28</td>\n",
       "      <td>28</td>\n",
       "      <td>25</td>\n",
       "      <td>28</td>\n",
       "      <td>22</td>\n",
       "      <td>26</td>\n",
       "      <td>28</td>\n",
       "      <td>27</td>\n",
       "      <td>28</td>\n",
       "    </tr>\n",
       "    <tr>\n",
       "      <th>1175</th>\n",
       "      <td>92800000</td>\n",
       "      <td>81</td>\n",
       "      <td>81</td>\n",
       "      <td>77</td>\n",
       "      <td>80</td>\n",
       "      <td>50</td>\n",
       "      <td>69</td>\n",
       "      <td>81</td>\n",
       "      <td>77</td>\n",
       "      <td>81</td>\n",
       "    </tr>\n",
       "    <tr>\n",
       "      <th>1176</th>\n",
       "      <td>92810000</td>\n",
       "      <td>94</td>\n",
       "      <td>94</td>\n",
       "      <td>91</td>\n",
       "      <td>94</td>\n",
       "      <td>59</td>\n",
       "      <td>90</td>\n",
       "      <td>94</td>\n",
       "      <td>83</td>\n",
       "      <td>94</td>\n",
       "    </tr>\n",
       "    <tr>\n",
       "      <th>1177</th>\n",
       "      <td>92812000</td>\n",
       "      <td>26</td>\n",
       "      <td>26</td>\n",
       "      <td>24</td>\n",
       "      <td>26</td>\n",
       "      <td>16</td>\n",
       "      <td>25</td>\n",
       "      <td>26</td>\n",
       "      <td>23</td>\n",
       "      <td>26</td>\n",
       "    </tr>\n",
       "  </tbody>\n",
       "</table>\n",
       "</div>"
      ],
      "text/plain": [
       "     category_code  address  city  headcount  name  phone  revenue  state  \\\n",
       "1173      92615000      102   102         96   102     62       96    102   \n",
       "1174      92711000       28    28         25    28     22       26     28   \n",
       "1175      92800000       81    81         77    80     50       69     81   \n",
       "1176      92810000       94    94         91    94     59       90     94   \n",
       "1177      92812000       26    26         24    26     16       25     26   \n",
       "\n",
       "      time_in_business  zip  \n",
       "1173                91  102  \n",
       "1174                27   28  \n",
       "1175                77   81  \n",
       "1176                83   94  \n",
       "1177                23   26  "
      ]
     },
     "execution_count": 21,
     "metadata": {},
     "output_type": "execute_result"
    }
   ],
   "source": [
    "## How many different category codes there are?\n",
    "df_corr.groupby('category_code').count().dropna().reset_index().tail()"
   ]
  },
  {
   "cell_type": "markdown",
   "metadata": {},
   "source": [
    "There are 1178 different kind of business, according to their [NAICS](https://classcodes.com/naics-code-list/) code."
   ]
  },
  {
   "cell_type": "code",
   "execution_count": 22,
   "metadata": {
    "ExecuteTime": {
     "end_time": "2017-09-25T23:48:54.637746Z",
     "start_time": "2017-09-25T23:48:54.626092Z"
    }
   },
   "outputs": [
    {
     "name": "stdout",
     "output_type": "stream",
     "text": [
      "From the 999898 business, there are 915057 individual business without common address\n",
      "84841 business share the address\n"
     ]
    }
   ],
   "source": [
    "## How many different addresses there are (considering that the address falls in the same state)?\n",
    "total_address = len(df_corr['address'].dropna())\n",
    "print('From the', total_address, 'business, there are', len(df_corr.groupby(['address','state']).count().dropna()), \n",
    "      'individual business without common address')\n",
    "print(total_address - len(df_corr.groupby(['address','state']).count().dropna()), 'business share the address')"
   ]
  },
  {
   "cell_type": "code",
   "execution_count": 23,
   "metadata": {
    "ExecuteTime": {
     "end_time": "2017-09-25T23:48:54.638154Z",
     "start_time": "2017-09-26T06:48:54.628Z"
    }
   },
   "outputs": [
    {
     "name": "stdout",
     "output_type": "stream",
     "text": [
      "From the 999895 business, there are 13714 unique cities\n"
     ]
    }
   ],
   "source": [
    "## How many different cities there are (considering that the address falls in the same state)?\n",
    "total_city = len(df_corr['city'].dropna())\n",
    "print('From the', total_city, 'business, there are', len(df_corr['city'].dropna().unique()), 'unique cities')"
   ]
  },
  {
   "cell_type": "markdown",
   "metadata": {},
   "source": [
    "From the 999895 cities, 13714 business are unique, but some of them have the same name in different states."
   ]
  },
  {
   "cell_type": "code",
   "execution_count": 24,
   "metadata": {},
   "outputs": [
    {
     "name": "stdout",
     "output_type": "stream",
     "text": [
      "From 999910 business names 890717 are unique and 109193 are repeated\n"
     ]
    }
   ],
   "source": [
    "## How many different business names there are?\n",
    "all_names = len(df_corr['name'].dropna())\n",
    "unique_names = df_corr['name'].dropna().unique()\n",
    "\n",
    "print('From', all_names, 'business names', len(unique_names), 'are unique and', \n",
    "      all_names-len(unique_names), 'are repeated')"
   ]
  },
  {
   "cell_type": "markdown",
   "metadata": {},
   "source": [
    "From all the 999910 business names, 890717 (89.1%) are unique and 109193 (10.9%) are repeated"
   ]
  },
  {
   "cell_type": "code",
   "execution_count": 25,
   "metadata": {},
   "outputs": [
    {
     "name": "stdout",
     "output_type": "stream",
     "text": [
      "From 590798 phone numbers 575148 are unique and 15650 are repeated\n"
     ]
    }
   ],
   "source": [
    "## How many different telephone numbers there are?\n",
    "all_phones = len(df_corr['phone'].dropna())\n",
    "unique_phones = df_corr['phone'].dropna().unique()\n",
    "\n",
    "print('From', all_phones, 'phone numbers', len(unique_phones), 'are unique and', \n",
    "      all_phones-len(unique_phones), 'are repeated')"
   ]
  },
  {
   "cell_type": "markdown",
   "metadata": {},
   "source": [
    "From all the 590798 telephone number entries, 575148 (97.4%) are unique and 15650 (2.6%) are repeated"
   ]
  },
  {
   "cell_type": "code",
   "execution_count": 26,
   "metadata": {},
   "outputs": [
    {
     "name": "stdout",
     "output_type": "stream",
     "text": [
      "From 999890 zip codes 26391 are unique and 973499 are repeated\n"
     ]
    }
   ],
   "source": [
    "## How many different zip codes there are?\n",
    "all_zip = len(df_corr['zip'].dropna())\n",
    "unique_zip = df_corr['zip'].dropna().unique()\n",
    "\n",
    "print('From', all_zip, 'zip codes', len(unique_zip), 'are unique and', all_zip-len(unique_zip), 'are repeated')"
   ]
  },
  {
   "cell_type": "markdown",
   "metadata": {},
   "source": [
    "From 999890 zip codes 26391 are unique and 973499 are repeated"
   ]
  },
  {
   "cell_type": "code",
   "execution_count": 27,
   "metadata": {},
   "outputs": [
    {
     "name": "stdout",
     "output_type": "stream",
     "text": [
      "Different time_in_business options: ['10+ years' '6-10 years' '1-2 years' '3-5 years' 'Less than a year']\n"
     ]
    },
    {
     "data": {
      "text/html": [
       "<div>\n",
       "<style>\n",
       "    .dataframe thead tr:only-child th {\n",
       "        text-align: right;\n",
       "    }\n",
       "\n",
       "    .dataframe thead th {\n",
       "        text-align: left;\n",
       "    }\n",
       "\n",
       "    .dataframe tbody tr th {\n",
       "        vertical-align: top;\n",
       "    }\n",
       "</style>\n",
       "<table border=\"1\" class=\"dataframe\">\n",
       "  <thead>\n",
       "    <tr style=\"text-align: right;\">\n",
       "      <th></th>\n",
       "      <th>time_in_business</th>\n",
       "      <th>address</th>\n",
       "      <th>category_code</th>\n",
       "      <th>city</th>\n",
       "      <th>headcount</th>\n",
       "      <th>name</th>\n",
       "      <th>phone</th>\n",
       "      <th>revenue</th>\n",
       "      <th>state</th>\n",
       "      <th>zip</th>\n",
       "    </tr>\n",
       "  </thead>\n",
       "  <tbody>\n",
       "    <tr>\n",
       "      <th>0</th>\n",
       "      <td>1-2 years</td>\n",
       "      <td>12754</td>\n",
       "      <td>12755</td>\n",
       "      <td>12754</td>\n",
       "      <td>12269</td>\n",
       "      <td>12755</td>\n",
       "      <td>7563</td>\n",
       "      <td>12055</td>\n",
       "      <td>12755</td>\n",
       "      <td>12755</td>\n",
       "    </tr>\n",
       "    <tr>\n",
       "      <th>1</th>\n",
       "      <td>10+ years</td>\n",
       "      <td>758794</td>\n",
       "      <td>758796</td>\n",
       "      <td>758788</td>\n",
       "      <td>730274</td>\n",
       "      <td>758802</td>\n",
       "      <td>448429</td>\n",
       "      <td>715639</td>\n",
       "      <td>758787</td>\n",
       "      <td>758781</td>\n",
       "    </tr>\n",
       "    <tr>\n",
       "      <th>2</th>\n",
       "      <td>3-5 years</td>\n",
       "      <td>38277</td>\n",
       "      <td>38278</td>\n",
       "      <td>38275</td>\n",
       "      <td>36814</td>\n",
       "      <td>38275</td>\n",
       "      <td>22523</td>\n",
       "      <td>36044</td>\n",
       "      <td>38273</td>\n",
       "      <td>38273</td>\n",
       "    </tr>\n",
       "    <tr>\n",
       "      <th>3</th>\n",
       "      <td>6-10 years</td>\n",
       "      <td>106130</td>\n",
       "      <td>106132</td>\n",
       "      <td>106133</td>\n",
       "      <td>102223</td>\n",
       "      <td>106133</td>\n",
       "      <td>62565</td>\n",
       "      <td>100150</td>\n",
       "      <td>106131</td>\n",
       "      <td>106137</td>\n",
       "    </tr>\n",
       "    <tr>\n",
       "      <th>4</th>\n",
       "      <td>Less than a year</td>\n",
       "      <td>1</td>\n",
       "      <td>1</td>\n",
       "      <td>1</td>\n",
       "      <td>0</td>\n",
       "      <td>1</td>\n",
       "      <td>1</td>\n",
       "      <td>1</td>\n",
       "      <td>1</td>\n",
       "      <td>1</td>\n",
       "    </tr>\n",
       "  </tbody>\n",
       "</table>\n",
       "</div>"
      ],
      "text/plain": [
       "   time_in_business  address  category_code    city  headcount    name  \\\n",
       "0         1-2 years    12754          12755   12754      12269   12755   \n",
       "1         10+ years   758794         758796  758788     730274  758802   \n",
       "2         3-5 years    38277          38278   38275      36814   38275   \n",
       "3        6-10 years   106130         106132  106133     102223  106133   \n",
       "4  Less than a year        1              1       1          0       1   \n",
       "\n",
       "    phone  revenue   state     zip  \n",
       "0    7563    12055   12755   12755  \n",
       "1  448429   715639  758787  758781  \n",
       "2   22523    36044   38273   38273  \n",
       "3   62565   100150  106131  106137  \n",
       "4       1        1       1       1  "
      ]
     },
     "execution_count": 27,
     "metadata": {},
     "output_type": "execute_result"
    }
   ],
   "source": [
    "## How many different time_in_business options there are?\n",
    "print('Different time_in_business options:', df_corr.time_in_business.dropna().unique())\n",
    "df_corr.groupby('time_in_business').count().dropna().reset_index()"
   ]
  },
  {
   "cell_type": "markdown",
   "metadata": {},
   "source": [
    "There are 5 different \"time_in_business\" options: '10+ years', '6-10 years', '3-5 years', '1-2 years' and 'Less than a year'"
   ]
  },
  {
   "cell_type": "code",
   "execution_count": 28,
   "metadata": {},
   "outputs": [
    {
     "name": "stdout",
     "output_type": "stream",
     "text": [
      "Different revenue options: ['$20 to 50 Million' 'Less Than $500,000' '$500,000 to $1 Million'\n",
      " '$2.5 to 5 Million' '$1 to 2.5 Million' '$5 to 10 Million'\n",
      " '$10 to 20 Million' '$50 to 100 Million' '$100 to 500 Million'\n",
      " 'Over $1 Billion' 'Over $500 Million']\n"
     ]
    },
    {
     "data": {
      "text/html": [
       "<div>\n",
       "<style>\n",
       "    .dataframe thead tr:only-child th {\n",
       "        text-align: right;\n",
       "    }\n",
       "\n",
       "    .dataframe thead th {\n",
       "        text-align: left;\n",
       "    }\n",
       "\n",
       "    .dataframe tbody tr th {\n",
       "        vertical-align: top;\n",
       "    }\n",
       "</style>\n",
       "<table border=\"1\" class=\"dataframe\">\n",
       "  <thead>\n",
       "    <tr style=\"text-align: right;\">\n",
       "      <th></th>\n",
       "      <th>revenue</th>\n",
       "      <th>address</th>\n",
       "      <th>category_code</th>\n",
       "      <th>city</th>\n",
       "      <th>headcount</th>\n",
       "      <th>name</th>\n",
       "      <th>phone</th>\n",
       "      <th>state</th>\n",
       "      <th>time_in_business</th>\n",
       "      <th>zip</th>\n",
       "    </tr>\n",
       "  </thead>\n",
       "  <tbody>\n",
       "    <tr>\n",
       "      <th>0</th>\n",
       "      <td>$1 to 2.5 Million</td>\n",
       "      <td>169524</td>\n",
       "      <td>169521</td>\n",
       "      <td>169520</td>\n",
       "      <td>163040</td>\n",
       "      <td>169520</td>\n",
       "      <td>100120</td>\n",
       "      <td>169524</td>\n",
       "      <td>155096</td>\n",
       "      <td>169520</td>\n",
       "    </tr>\n",
       "    <tr>\n",
       "      <th>1</th>\n",
       "      <td>$10 to 20 Million</td>\n",
       "      <td>48451</td>\n",
       "      <td>48450</td>\n",
       "      <td>48451</td>\n",
       "      <td>46649</td>\n",
       "      <td>48448</td>\n",
       "      <td>28549</td>\n",
       "      <td>48449</td>\n",
       "      <td>44386</td>\n",
       "      <td>48445</td>\n",
       "    </tr>\n",
       "    <tr>\n",
       "      <th>2</th>\n",
       "      <td>$100 to 500 Million</td>\n",
       "      <td>10128</td>\n",
       "      <td>10128</td>\n",
       "      <td>10127</td>\n",
       "      <td>9751</td>\n",
       "      <td>10129</td>\n",
       "      <td>5931</td>\n",
       "      <td>10128</td>\n",
       "      <td>9279</td>\n",
       "      <td>10130</td>\n",
       "    </tr>\n",
       "    <tr>\n",
       "      <th>3</th>\n",
       "      <td>$2.5 to 5 Million</td>\n",
       "      <td>99235</td>\n",
       "      <td>99236</td>\n",
       "      <td>99230</td>\n",
       "      <td>95426</td>\n",
       "      <td>99238</td>\n",
       "      <td>58836</td>\n",
       "      <td>99234</td>\n",
       "      <td>91093</td>\n",
       "      <td>99235</td>\n",
       "    </tr>\n",
       "    <tr>\n",
       "      <th>4</th>\n",
       "      <td>$20 to 50 Million</td>\n",
       "      <td>32792</td>\n",
       "      <td>32794</td>\n",
       "      <td>32795</td>\n",
       "      <td>31537</td>\n",
       "      <td>32791</td>\n",
       "      <td>19260</td>\n",
       "      <td>32795</td>\n",
       "      <td>30032</td>\n",
       "      <td>32793</td>\n",
       "    </tr>\n",
       "    <tr>\n",
       "      <th>5</th>\n",
       "      <td>$5 to 10 Million</td>\n",
       "      <td>83915</td>\n",
       "      <td>83917</td>\n",
       "      <td>83916</td>\n",
       "      <td>80712</td>\n",
       "      <td>83918</td>\n",
       "      <td>49658</td>\n",
       "      <td>83917</td>\n",
       "      <td>77005</td>\n",
       "      <td>83915</td>\n",
       "    </tr>\n",
       "    <tr>\n",
       "      <th>6</th>\n",
       "      <td>$50 to 100 Million</td>\n",
       "      <td>12764</td>\n",
       "      <td>12764</td>\n",
       "      <td>12763</td>\n",
       "      <td>12306</td>\n",
       "      <td>12763</td>\n",
       "      <td>7598</td>\n",
       "      <td>12764</td>\n",
       "      <td>11721</td>\n",
       "      <td>12765</td>\n",
       "    </tr>\n",
       "    <tr>\n",
       "      <th>7</th>\n",
       "      <td>$500,000 to $1 Million</td>\n",
       "      <td>153148</td>\n",
       "      <td>153153</td>\n",
       "      <td>153148</td>\n",
       "      <td>147385</td>\n",
       "      <td>153147</td>\n",
       "      <td>90583</td>\n",
       "      <td>153145</td>\n",
       "      <td>140422</td>\n",
       "      <td>153149</td>\n",
       "    </tr>\n",
       "    <tr>\n",
       "      <th>8</th>\n",
       "      <td>Less Than $500,000</td>\n",
       "      <td>329601</td>\n",
       "      <td>329604</td>\n",
       "      <td>329602</td>\n",
       "      <td>317340</td>\n",
       "      <td>329613</td>\n",
       "      <td>194603</td>\n",
       "      <td>329599</td>\n",
       "      <td>301793</td>\n",
       "      <td>329600</td>\n",
       "    </tr>\n",
       "    <tr>\n",
       "      <th>9</th>\n",
       "      <td>Over $1 Billion</td>\n",
       "      <td>1768</td>\n",
       "      <td>1769</td>\n",
       "      <td>1769</td>\n",
       "      <td>1714</td>\n",
       "      <td>1769</td>\n",
       "      <td>1019</td>\n",
       "      <td>1769</td>\n",
       "      <td>1611</td>\n",
       "      <td>1769</td>\n",
       "    </tr>\n",
       "    <tr>\n",
       "      <th>10</th>\n",
       "      <td>Over $500 Million</td>\n",
       "      <td>1579</td>\n",
       "      <td>1579</td>\n",
       "      <td>1579</td>\n",
       "      <td>1525</td>\n",
       "      <td>1579</td>\n",
       "      <td>918</td>\n",
       "      <td>1579</td>\n",
       "      <td>1451</td>\n",
       "      <td>1579</td>\n",
       "    </tr>\n",
       "  </tbody>\n",
       "</table>\n",
       "</div>"
      ],
      "text/plain": [
       "                   revenue  address  category_code    city  headcount    name  \\\n",
       "0        $1 to 2.5 Million   169524         169521  169520     163040  169520   \n",
       "1        $10 to 20 Million    48451          48450   48451      46649   48448   \n",
       "2      $100 to 500 Million    10128          10128   10127       9751   10129   \n",
       "3        $2.5 to 5 Million    99235          99236   99230      95426   99238   \n",
       "4        $20 to 50 Million    32792          32794   32795      31537   32791   \n",
       "5         $5 to 10 Million    83915          83917   83916      80712   83918   \n",
       "6       $50 to 100 Million    12764          12764   12763      12306   12763   \n",
       "7   $500,000 to $1 Million   153148         153153  153148     147385  153147   \n",
       "8       Less Than $500,000   329601         329604  329602     317340  329613   \n",
       "9          Over $1 Billion     1768           1769    1769       1714    1769   \n",
       "10       Over $500 Million     1579           1579    1579       1525    1579   \n",
       "\n",
       "     phone   state  time_in_business     zip  \n",
       "0   100120  169524            155096  169520  \n",
       "1    28549   48449             44386   48445  \n",
       "2     5931   10128              9279   10130  \n",
       "3    58836   99234             91093   99235  \n",
       "4    19260   32795             30032   32793  \n",
       "5    49658   83917             77005   83915  \n",
       "6     7598   12764             11721   12765  \n",
       "7    90583  153145            140422  153149  \n",
       "8   194603  329599            301793  329600  \n",
       "9     1019    1769              1611    1769  \n",
       "10     918    1579              1451    1579  "
      ]
     },
     "execution_count": 28,
     "metadata": {},
     "output_type": "execute_result"
    }
   ],
   "source": [
    "## How many different revenue options there are?\n",
    "print('Different revenue options:', df_corr.revenue.dropna().unique())\n",
    "df_corr.groupby('revenue').count().dropna().reset_index()"
   ]
  },
  {
   "cell_type": "markdown",
   "metadata": {},
   "source": [
    "## 4. Something interesting\n",
    "Find something cool or odd in the data set and tell us about it."
   ]
  },
  {
   "cell_type": "code",
   "execution_count": 29,
   "metadata": {
    "ExecuteTime": {
     "end_time": "2017-09-25T23:48:54.638476Z",
     "start_time": "2017-09-26T06:48:54.634Z"
    }
   },
   "outputs": [
    {
     "data": {
      "text/plain": [
       "<matplotlib.figure.Figure at 0x17858d518>"
      ]
     },
     "metadata": {},
     "output_type": "display_data"
    },
    {
     "data": {
      "image/png": "[encoded data removed]",
      "text/plain": [
       "<matplotlib.figure.Figure at 0x17858a588>"
      ]
     },
     "metadata": {},
     "output_type": "display_data"
    }
   ],
   "source": [
    "## Group by headcount\n",
    "total_employees = len(df_corr['headcount'].dropna())\n",
    "grp1 = len(df_corr[(df_corr['headcount'] == '1 to 4')]['headcount'].dropna())\n",
    "grp2 = len(df_corr[(df_corr['headcount'] == '5 to 9')]['headcount'].dropna())\n",
    "grp3 = len(df_corr[(df_corr['headcount'] == '10 to 19')]['headcount'].dropna())\n",
    "grp4 = len(df_corr[(df_corr['headcount'] == '20 to 49')]['headcount'].dropna())\n",
    "grp5 = len(df_corr[(df_corr['headcount'] == '50 to 99')]['headcount'].dropna())\n",
    "grp6 = len(df_corr[(df_corr['headcount'] == '100 to 249')]['headcount'].dropna())\n",
    "grp7 = len(df_corr[(df_corr['headcount'] == '250 to 499')]['headcount'].dropna())\n",
    "grp8 = len(df_corr[(df_corr['headcount'] == '500 to 999')]['headcount'].dropna())\n",
    "grp9 = len(df_corr[(df_corr['headcount'] == 'Over 1,000')]['headcount'].dropna())\n",
    "grp_higher = grp6+grp7+grp8+grp9\n",
    "\n",
    "perctg = [grp1/total_employees, grp2/total_employees, grp3/total_employees, grp4/total_employees, grp5/total_employees, \n",
    "          grp6/total_employees, grp7/total_employees, grp8/total_employees, grp9/total_employees]\n",
    "perctg_ = [grp1/total_employees, grp2/total_employees, grp3/total_employees, grp4/total_employees, grp5/total_employees, \n",
    "          grp_higher/total_employees]\n",
    "\n",
    "labls = ['1 to 4', '5 to 9', '10 to 19', '20 to 49', '50 to 99', '100 to 249', '250 to 499', \n",
    "         '500 to 999', 'Over 1,000']\n",
    "labls_ = ['1 to 4', '5 to 9', '10 to 19', '20 to 49', '50 to 99', 'Over 100']\n",
    "\n",
    "cs = cm.Set1(np.arange(len(labls))/len(labls))\n",
    "\n",
    "plt.clf()\n",
    "mpl.rcParams['font.size'] = 11.\n",
    "fig = plt.figure(figsize=(4,4))\n",
    "plt.pie(perctg_, labels=labls_, autopct='%1.1f%%', counterclock=False, colors=cs, startangle=60, labeldistance=1.1)\n",
    "plt.title('Employees per business', fontsize=16)\n",
    "plt.tight_layout()\n",
    "plt.show(fig)\n",
    "#plt.savefig('./figs/headcount_fraction.png', bbox_inches='tight')\n",
    "\n",
    "plt.close('all')\n",
    "mpl.rcParams['font.size'] = 16."
   ]
  },
  {
   "cell_type": "code",
   "execution_count": 30,
   "metadata": {
    "ExecuteTime": {
     "end_time": "2017-09-25T23:48:54.639666Z",
     "start_time": "2017-09-26T06:48:54.638Z"
    }
   },
   "outputs": [
    {
     "name": "stdout",
     "output_type": "stream",
     "text": [
      "82 business have only one company working in its field\n"
     ]
    }
   ],
   "source": [
    "## Category Code\n",
    "grp_code = df_corr.groupby('category_code')['name'].count()\n",
    "low_codes = grp_code.loc[grp_code <= 1].reset_index()\n",
    "print(len(low_codes), 'business have only one company working in its field')"
   ]
  },
  {
   "cell_type": "code",
   "execution_count": 31,
   "metadata": {
    "ExecuteTime": {
     "end_time": "2017-09-25T23:48:54.643865Z",
     "start_time": "2017-09-26T06:48:54.642Z"
    }
   },
   "outputs": [
    {
     "data": {
      "text/plain": [
       "968111    Sekisui S-Lec America Inc\n",
       "Name: name, dtype: object"
      ]
     },
     "execution_count": 31,
     "metadata": {},
     "output_type": "execute_result"
    }
   ],
   "source": [
    "df_corr[(df_corr['category_code'] == '11113000')]['name']"
   ]
  },
  {
   "cell_type": "markdown",
   "metadata": {},
   "source": [
    "There are 82 different kind of business type that are not very popular, in fact there is only one company working in this field; for example, there is only one company working in the field of \"Dry Pea and Bean Farming\" (NAICS code 11113000)."
   ]
  },
  {
   "cell_type": "code",
   "execution_count": 46,
   "metadata": {
    "ExecuteTime": {
     "end_time": "2017-09-25T23:48:54.647759Z",
     "start_time": "2017-09-26T06:48:54.646Z"
    }
   },
   "outputs": [
    {
     "name": "stdout",
     "output_type": "stream",
     "text": [
      "The sector where most of the business are stablished, has the NAICS code: 54\n",
      "The sector with less stablished business has the NAICS code: 55\n"
     ]
    }
   ],
   "source": [
    "# Retrieve the sector code from the first two digits of the category_code:\n",
    "df_corr['sector_code'] = df_corr['category_code'].str[:2]\n",
    "\n",
    "## Which sector is the one with less business?\n",
    "freq_sectors = df_corr.groupby('sector_code')['name'].count().reset_index()\n",
    "freq_sectors.sort_values(by='name', ascending=False, inplace=True)\n",
    "print('The sector where most of the business are stablished, has the NAICS code:', \n",
    "      freq_sectors['sector_code'].values[0])\n",
    "print('The sector with less stablished business has the NAICS code:', \n",
    "      freq_sectors['sector_code'].values[-1])"
   ]
  },
  {
   "cell_type": "markdown",
   "metadata": {},
   "source": [
    "Most of the business in US are stablished in the sector 54 (\"Professional, Scientific, and Technical Services\") and the sector less represented by the business is sector 55 (\"Management of Companies and Enterprises\")."
   ]
  },
  {
   "cell_type": "code",
   "execution_count": 33,
   "metadata": {
    "ExecuteTime": {
     "end_time": "2017-09-25T23:48:54.651299Z",
     "start_time": "2017-09-26T06:48:54.650Z"
    }
   },
   "outputs": [
    {
     "name": "stdout",
     "output_type": "stream",
     "text": [
      "The State where most of the business are working on is: CA having 122800 out of 999806\n",
      "The State with less the business working on it is: VI having 1 out of 999806\n"
     ]
    }
   ],
   "source": [
    "## Group by State:\n",
    "freq_state = df_corr.groupby('state')['name'].count().reset_index()\n",
    "freq_state.sort_values(by='name', ascending=False, inplace=True)\n",
    "print('The State where most of the business are working on is:', freq_state['state'].values[0], 'having', \n",
    "      freq_state['name'].values[0], 'out of', freq_state.name.sum())\n",
    "print('The State with less the business working on it is:', freq_state['state'].values[-1], 'having', \n",
    "      freq_state['name'].values[-1], 'out of', freq_state.name.sum())"
   ]
  },
  {
   "cell_type": "markdown",
   "metadata": {},
   "source": [
    "122800 out of 999806 business (12.3%) are located in the State of CA, while the British Virgin Islands have only 1 out of 999806 business located there."
   ]
  },
  {
   "cell_type": "code",
   "execution_count": 34,
   "metadata": {
    "ExecuteTime": {
     "end_time": "2017-09-25T23:48:54.655072Z",
     "start_time": "2017-09-26T06:48:54.653Z"
    }
   },
   "outputs": [
    {
     "data": {
      "text/plain": [
       "<matplotlib.figure.Figure at 0x1861a97b8>"
      ]
     },
     "metadata": {},
     "output_type": "display_data"
    },
    {
     "data": {
      "image/png": "[encoded data removed]",
      "text/plain": [
       "<matplotlib.figure.Figure at 0x1861a9400>"
      ]
     },
     "metadata": {},
     "output_type": "display_data"
    }
   ],
   "source": [
    "labels = freq_state['state'].values\n",
    "y_pos = np.arange(len(labels))\n",
    "n_business_state = freq_state['name'].values\n",
    "percentage_business_state = freq_state['name'].values/freq_state.name.sum()\n",
    "\n",
    "plt.clf()\n",
    "fig = plt.figure(figsize=(8,10))\n",
    "plt.barh(y_pos, percentage_business_state, align='center', color='red')\n",
    "plt.title('Percentage of business per State', fontsize=18)\n",
    "plt.xlabel('Percentage of business', fontsize=18)\n",
    "plt.ylabel('State', fontsize=18)\n",
    "plt.yticks(y_pos, labels, fontsize=11)\n",
    "plt.tight_layout()\n",
    "plt.show(fig)\n",
    "#plt.savefig('./figs/state_business_fraction.png', bbox_inches='tight')\n",
    "plt.close('all')"
   ]
  },
  {
   "cell_type": "code",
   "execution_count": 35,
   "metadata": {
    "ExecuteTime": {
     "end_time": "2017-09-25T23:48:54.663178Z",
     "start_time": "2017-09-26T06:48:54.662Z"
    }
   },
   "outputs": [
    {
     "name": "stdout",
     "output_type": "stream",
     "text": [
      "The most shared address is: ['1 S DEARBORN ST' 'IL'] ( 76 times)\n"
     ]
    },
    {
     "data": {
      "text/html": [
       "<div>\n",
       "<style>\n",
       "    .dataframe thead tr:only-child th {\n",
       "        text-align: right;\n",
       "    }\n",
       "\n",
       "    .dataframe thead th {\n",
       "        text-align: left;\n",
       "    }\n",
       "\n",
       "    .dataframe tbody tr th {\n",
       "        vertical-align: top;\n",
       "    }\n",
       "</style>\n",
       "<table border=\"1\" class=\"dataframe\">\n",
       "  <thead>\n",
       "    <tr style=\"text-align: right;\">\n",
       "      <th></th>\n",
       "      <th>address</th>\n",
       "      <th>city</th>\n",
       "      <th>state</th>\n",
       "      <th>name</th>\n",
       "    </tr>\n",
       "  </thead>\n",
       "  <tbody>\n",
       "    <tr>\n",
       "      <th>1039</th>\n",
       "      <td>1 S DEARBORN ST</td>\n",
       "      <td>CHICAGO</td>\n",
       "      <td>IL</td>\n",
       "      <td>GENIE CO OF FAIRVIEW PARK INC</td>\n",
       "    </tr>\n",
       "    <tr>\n",
       "      <th>25619</th>\n",
       "      <td>1 S DEARBORN ST</td>\n",
       "      <td>CHICAGO</td>\n",
       "      <td>IL</td>\n",
       "      <td>Grabers Pottery</td>\n",
       "    </tr>\n",
       "    <tr>\n",
       "      <th>30645</th>\n",
       "      <td>1 S DEARBORN ST</td>\n",
       "      <td>CHICAGO</td>\n",
       "      <td>IL</td>\n",
       "      <td>ALEXANDER PROPERTIES INC.</td>\n",
       "    </tr>\n",
       "    <tr>\n",
       "      <th>31682</th>\n",
       "      <td>1 S DEARBORN ST</td>\n",
       "      <td>CHICAGO</td>\n",
       "      <td>IL</td>\n",
       "      <td>Rivercity Screenprinting</td>\n",
       "    </tr>\n",
       "    <tr>\n",
       "      <th>38058</th>\n",
       "      <td>1 S DEARBORN ST</td>\n",
       "      <td>CHICAGO</td>\n",
       "      <td>IL</td>\n",
       "      <td>Suncook River Veterinary Clinic</td>\n",
       "    </tr>\n",
       "    <tr>\n",
       "      <th>88529</th>\n",
       "      <td>1 S DEARBORN ST</td>\n",
       "      <td>CHICAGO</td>\n",
       "      <td>IL</td>\n",
       "      <td>JJ 2 DESIGN</td>\n",
       "    </tr>\n",
       "    <tr>\n",
       "      <th>96494</th>\n",
       "      <td>1 S DEARBORN ST</td>\n",
       "      <td>CHICAGO</td>\n",
       "      <td>IL</td>\n",
       "      <td>HIGHLANDS-CASHIERS HOSPITAL INC</td>\n",
       "    </tr>\n",
       "    <tr>\n",
       "      <th>106190</th>\n",
       "      <td>1 S DEARBORN ST</td>\n",
       "      <td>CHICAGO</td>\n",
       "      <td>IL</td>\n",
       "      <td>That Natural Store</td>\n",
       "    </tr>\n",
       "    <tr>\n",
       "      <th>113087</th>\n",
       "      <td>1 S DEARBORN ST</td>\n",
       "      <td>CHICAGO</td>\n",
       "      <td>IL</td>\n",
       "      <td>Brooks Insurance Agency Inc</td>\n",
       "    </tr>\n",
       "    <tr>\n",
       "      <th>135011</th>\n",
       "      <td>1 S DEARBORN ST</td>\n",
       "      <td>CHICAGO</td>\n",
       "      <td>IL</td>\n",
       "      <td>Bridgeport Catholic Academy</td>\n",
       "    </tr>\n",
       "  </tbody>\n",
       "</table>\n",
       "</div>"
      ],
      "text/plain": [
       "                address     city state                             name\n",
       "1039    1 S DEARBORN ST  CHICAGO    IL    GENIE CO OF FAIRVIEW PARK INC\n",
       "25619   1 S DEARBORN ST  CHICAGO    IL                  Grabers Pottery\n",
       "30645   1 S DEARBORN ST  CHICAGO    IL        ALEXANDER PROPERTIES INC.\n",
       "31682   1 S DEARBORN ST  CHICAGO    IL         Rivercity Screenprinting\n",
       "38058   1 S DEARBORN ST  CHICAGO    IL  Suncook River Veterinary Clinic\n",
       "88529   1 S DEARBORN ST  CHICAGO    IL                      JJ 2 DESIGN\n",
       "96494   1 S DEARBORN ST  CHICAGO    IL  HIGHLANDS-CASHIERS HOSPITAL INC\n",
       "106190  1 S DEARBORN ST  CHICAGO    IL               That Natural Store\n",
       "113087  1 S DEARBORN ST  CHICAGO    IL      Brooks Insurance Agency Inc\n",
       "135011  1 S DEARBORN ST  CHICAGO    IL      Bridgeport Catholic Academy"
      ]
     },
     "execution_count": 35,
     "metadata": {},
     "output_type": "execute_result"
    }
   ],
   "source": [
    "## Group by address\n",
    "freq_adrs = df_corr.groupby(['address','state']).count().dropna().reset_index()\n",
    "freq_adrs.sort_values(by='name', ascending=False, inplace=True)\n",
    "most_shared_addrs = freq_adrs[(freq_adrs['name'] > 1.)][['address', 'state']].values[0]\n",
    "\n",
    "print('The most shared address is:', most_shared_addrs, '(', \n",
    "      freq_adrs[(freq_adrs['name'] > 1.)]['name'].values[0], 'times)')\n",
    "\n",
    "df_corr[(df_corr['address']=='1 S DEARBORN ST') & (df_corr['state']=='IL')][['address','city','state','name']].head(10)"
   ]
  },
  {
   "cell_type": "code",
   "execution_count": 36,
   "metadata": {
    "ExecuteTime": {
     "end_time": "2017-09-25T23:48:54.707095Z",
     "start_time": "2017-09-26T06:48:54.705Z"
    }
   },
   "outputs": [
    {
     "data": {
      "text/html": [
       "<div>\n",
       "<style>\n",
       "    .dataframe thead tr:only-child th {\n",
       "        text-align: right;\n",
       "    }\n",
       "\n",
       "    .dataframe thead th {\n",
       "        text-align: left;\n",
       "    }\n",
       "\n",
       "    .dataframe tbody tr th {\n",
       "        vertical-align: top;\n",
       "    }\n",
       "</style>\n",
       "<table border=\"1\" class=\"dataframe\">\n",
       "  <thead>\n",
       "    <tr style=\"text-align: right;\">\n",
       "      <th></th>\n",
       "      <th></th>\n",
       "      <th>name</th>\n",
       "      <th>zip</th>\n",
       "    </tr>\n",
       "    <tr>\n",
       "      <th>city</th>\n",
       "      <th>state</th>\n",
       "      <th></th>\n",
       "      <th></th>\n",
       "    </tr>\n",
       "  </thead>\n",
       "  <tbody>\n",
       "    <tr>\n",
       "      <th rowspan=\"8\" valign=\"top\">ABERDEEN</th>\n",
       "      <th>ID</th>\n",
       "      <td>5</td>\n",
       "      <td>5</td>\n",
       "    </tr>\n",
       "    <tr>\n",
       "      <th>MD</th>\n",
       "      <td>57</td>\n",
       "      <td>57</td>\n",
       "    </tr>\n",
       "    <tr>\n",
       "      <th>MS</th>\n",
       "      <td>25</td>\n",
       "      <td>25</td>\n",
       "    </tr>\n",
       "    <tr>\n",
       "      <th>NC</th>\n",
       "      <td>43</td>\n",
       "      <td>43</td>\n",
       "    </tr>\n",
       "    <tr>\n",
       "      <th>NJ</th>\n",
       "      <td>4</td>\n",
       "      <td>4</td>\n",
       "    </tr>\n",
       "    <tr>\n",
       "      <th>OH</th>\n",
       "      <td>2</td>\n",
       "      <td>2</td>\n",
       "    </tr>\n",
       "    <tr>\n",
       "      <th>SD</th>\n",
       "      <td>145</td>\n",
       "      <td>145</td>\n",
       "    </tr>\n",
       "    <tr>\n",
       "      <th>WA</th>\n",
       "      <td>67</td>\n",
       "      <td>67</td>\n",
       "    </tr>\n",
       "  </tbody>\n",
       "</table>\n",
       "</div>"
      ],
      "text/plain": [
       "                name  zip\n",
       "city     state           \n",
       "ABERDEEN ID        5    5\n",
       "         MD       57   57\n",
       "         MS       25   25\n",
       "         NC       43   43\n",
       "         NJ        4    4\n",
       "         OH        2    2\n",
       "         SD      145  145\n",
       "         WA       67   67"
      ]
     },
     "execution_count": 36,
     "metadata": {},
     "output_type": "execute_result"
    }
   ],
   "source": [
    "## Group by city\n",
    "df_corr[(df_corr['city'] == 'ABERDEEN')].groupby(['city','state'])['name','zip'].count().dropna()"
   ]
  },
  {
   "cell_type": "code",
   "execution_count": 37,
   "metadata": {},
   "outputs": [
    {
     "name": "stdout",
     "output_type": "stream",
     "text": [
      "The business Farmers Insurance appears 820 times in different states\n"
     ]
    },
    {
     "data": {
      "text/html": [
       "<div>\n",
       "<style>\n",
       "    .dataframe thead tr:only-child th {\n",
       "        text-align: right;\n",
       "    }\n",
       "\n",
       "    .dataframe thead th {\n",
       "        text-align: left;\n",
       "    }\n",
       "\n",
       "    .dataframe tbody tr th {\n",
       "        vertical-align: top;\n",
       "    }\n",
       "</style>\n",
       "<table border=\"1\" class=\"dataframe\">\n",
       "  <thead>\n",
       "    <tr style=\"text-align: right;\">\n",
       "      <th></th>\n",
       "      <th>index</th>\n",
       "      <th>name</th>\n",
       "      <th>state</th>\n",
       "      <th>zip</th>\n",
       "      <th>city</th>\n",
       "    </tr>\n",
       "  </thead>\n",
       "  <tbody>\n",
       "    <tr>\n",
       "      <th>818</th>\n",
       "      <td>994845</td>\n",
       "      <td>Farmers Insurance</td>\n",
       "      <td>CA</td>\n",
       "      <td>91761</td>\n",
       "      <td>ONTARIO</td>\n",
       "    </tr>\n",
       "    <tr>\n",
       "      <th>819</th>\n",
       "      <td>996080</td>\n",
       "      <td>Farmers Insurance</td>\n",
       "      <td>CA</td>\n",
       "      <td>90270</td>\n",
       "      <td>MAYWOOD</td>\n",
       "    </tr>\n",
       "    <tr>\n",
       "      <th>820</th>\n",
       "      <td>996754</td>\n",
       "      <td>Farmers Insurance</td>\n",
       "      <td>TX</td>\n",
       "      <td>76065</td>\n",
       "      <td>MIDLOTHIAN</td>\n",
       "    </tr>\n",
       "  </tbody>\n",
       "</table>\n",
       "</div>"
      ],
      "text/plain": [
       "      index               name state    zip        city\n",
       "818  994845  Farmers Insurance    CA  91761     ONTARIO\n",
       "819  996080  Farmers Insurance    CA  90270     MAYWOOD\n",
       "820  996754  Farmers Insurance    TX  76065  MIDLOTHIAN"
      ]
     },
     "execution_count": 37,
     "metadata": {},
     "output_type": "execute_result"
    }
   ],
   "source": [
    "## Group by business name\n",
    "freq_names = df_corr.groupby('name').count().dropna().reset_index()\n",
    "freq_names.sort_values(by='sector_code', ascending=False, inplace=True)\n",
    "print('The business', freq_names.name.values[0], 'appears', freq_names.sector_code.values[0], \n",
    "      'times in different states')\n",
    "\n",
    "df_corr[(df_corr['name'] == 'Farmers Insurance')][['name','state','zip','city']].dropna().reset_index().tail(3)"
   ]
  },
  {
   "cell_type": "markdown",
   "metadata": {},
   "source": [
    "The business Farmers Insurance appears 820 times in different states"
   ]
  },
  {
   "cell_type": "code",
   "execution_count": 38,
   "metadata": {
    "scrolled": true
   },
   "outputs": [
    {
     "name": "stdout",
     "output_type": "stream",
     "text": [
      "The phone number 3037705531 appears 88 times, associated to different company's NAICS code\n"
     ]
    },
    {
     "data": {
      "text/html": [
       "<div>\n",
       "<style>\n",
       "    .dataframe thead tr:only-child th {\n",
       "        text-align: right;\n",
       "    }\n",
       "\n",
       "    .dataframe thead th {\n",
       "        text-align: left;\n",
       "    }\n",
       "\n",
       "    .dataframe tbody tr th {\n",
       "        vertical-align: top;\n",
       "    }\n",
       "</style>\n",
       "<table border=\"1\" class=\"dataframe\">\n",
       "  <thead>\n",
       "    <tr style=\"text-align: right;\">\n",
       "      <th></th>\n",
       "      <th>index</th>\n",
       "      <th>phone</th>\n",
       "      <th>name</th>\n",
       "      <th>state</th>\n",
       "      <th>city</th>\n",
       "      <th>time_in_business</th>\n",
       "    </tr>\n",
       "  </thead>\n",
       "  <tbody>\n",
       "    <tr>\n",
       "      <th>78</th>\n",
       "      <td>983795</td>\n",
       "      <td>3037705531</td>\n",
       "      <td>Thor Solutions Inc</td>\n",
       "      <td>CA</td>\n",
       "      <td>DANA POINT</td>\n",
       "      <td>6-10 years</td>\n",
       "    </tr>\n",
       "    <tr>\n",
       "      <th>79</th>\n",
       "      <td>988766</td>\n",
       "      <td>3037705531</td>\n",
       "      <td>Crystal River Dialysis Center</td>\n",
       "      <td>MS</td>\n",
       "      <td>TERRY</td>\n",
       "      <td>10+ years</td>\n",
       "    </tr>\n",
       "    <tr>\n",
       "      <th>80</th>\n",
       "      <td>989256</td>\n",
       "      <td>3037705531</td>\n",
       "      <td>ROBIN O'CONNELL DESIGN</td>\n",
       "      <td>CA</td>\n",
       "      <td>MENLO PARK</td>\n",
       "      <td>10+ years</td>\n",
       "    </tr>\n",
       "  </tbody>\n",
       "</table>\n",
       "</div>"
      ],
      "text/plain": [
       "     index       phone                           name state        city  \\\n",
       "78  983795  3037705531             Thor Solutions Inc    CA  DANA POINT   \n",
       "79  988766  3037705531  Crystal River Dialysis Center    MS       TERRY   \n",
       "80  989256  3037705531         ROBIN O'CONNELL DESIGN    CA  MENLO PARK   \n",
       "\n",
       "   time_in_business  \n",
       "78       6-10 years  \n",
       "79        10+ years  \n",
       "80        10+ years  "
      ]
     },
     "execution_count": 38,
     "metadata": {},
     "output_type": "execute_result"
    }
   ],
   "source": [
    "## Group by phone number\n",
    "freq_phone = df_corr.groupby('phone').count().dropna().reset_index()\n",
    "freq_phone.sort_values(by='name', ascending=False, inplace=True)\n",
    "print('The phone number', freq_phone.phone.values[0], 'appears', freq_phone.sector_code.values[0], \n",
    "      \"times, associated to different company's NAICS code\")\n",
    "\n",
    "df_corr[(df_corr['phone'] == '3037705531')][['phone','name','state','city','time_in_business']].dropna().reset_index().tail(3)"
   ]
  },
  {
   "cell_type": "markdown",
   "metadata": {},
   "source": [
    "The phone number 3037705531 appears 88 times, associated to different company's NAICS code"
   ]
  },
  {
   "cell_type": "code",
   "execution_count": 39,
   "metadata": {},
   "outputs": [
    {
     "name": "stdout",
     "output_type": "stream",
     "text": [
      "The zip code 10001 appears 1151 times, associated to different company's name\n"
     ]
    },
    {
     "data": {
      "text/html": [
       "<div>\n",
       "<style>\n",
       "    .dataframe thead tr:only-child th {\n",
       "        text-align: right;\n",
       "    }\n",
       "\n",
       "    .dataframe thead th {\n",
       "        text-align: left;\n",
       "    }\n",
       "\n",
       "    .dataframe tbody tr th {\n",
       "        vertical-align: top;\n",
       "    }\n",
       "</style>\n",
       "<table border=\"1\" class=\"dataframe\">\n",
       "  <thead>\n",
       "    <tr style=\"text-align: right;\">\n",
       "      <th></th>\n",
       "      <th>index</th>\n",
       "      <th>zip</th>\n",
       "      <th>name</th>\n",
       "      <th>state</th>\n",
       "      <th>city</th>\n",
       "    </tr>\n",
       "  </thead>\n",
       "  <tbody>\n",
       "    <tr>\n",
       "      <th>1148</th>\n",
       "      <td>995932</td>\n",
       "      <td>10001</td>\n",
       "      <td>DURABOTICS INC</td>\n",
       "      <td>NY</td>\n",
       "      <td>NEW YORK</td>\n",
       "    </tr>\n",
       "    <tr>\n",
       "      <th>1149</th>\n",
       "      <td>996104</td>\n",
       "      <td>10001</td>\n",
       "      <td>Cowen John Landscape Assocs LTD</td>\n",
       "      <td>NY</td>\n",
       "      <td>NEW YORK</td>\n",
       "    </tr>\n",
       "    <tr>\n",
       "      <th>1150</th>\n",
       "      <td>996586</td>\n",
       "      <td>10001</td>\n",
       "      <td>American Heritage Landmark Tours</td>\n",
       "      <td>NY</td>\n",
       "      <td>NEW YORK</td>\n",
       "    </tr>\n",
       "  </tbody>\n",
       "</table>\n",
       "</div>"
      ],
      "text/plain": [
       "       index    zip                              name state      city\n",
       "1148  995932  10001                    DURABOTICS INC    NY  NEW YORK\n",
       "1149  996104  10001   Cowen John Landscape Assocs LTD    NY  NEW YORK\n",
       "1150  996586  10001  American Heritage Landmark Tours    NY  NEW YORK"
      ]
     },
     "execution_count": 39,
     "metadata": {},
     "output_type": "execute_result"
    }
   ],
   "source": [
    "## Group by zip code\n",
    "freq_zip = df_corr.groupby('zip').count().dropna().reset_index()\n",
    "freq_zip.sort_values(by='name', ascending=False, inplace=True)\n",
    "print('The zip code', freq_zip.zip.values[0], 'appears', freq_zip.name.values[0], \n",
    "      \"times, associated to different company's name\")\n",
    "\n",
    "df_corr[(df_corr['zip'] == '10001')][['zip','name','state','city']].dropna().reset_index().tail(3)"
   ]
  },
  {
   "cell_type": "markdown",
   "metadata": {},
   "source": [
    "The zip code 10001 appears 1151 times, associated to different company's name"
   ]
  },
  {
   "cell_type": "code",
   "execution_count": 40,
   "metadata": {},
   "outputs": [
    {
     "data": {
      "text/plain": [
       "<matplotlib.figure.Figure at 0x1785885f8>"
      ]
     },
     "metadata": {},
     "output_type": "display_data"
    },
    {
     "data": {
      "image/png": "[encoded data removed]",
      "text/plain": [
       "<matplotlib.figure.Figure at 0x186267240>"
      ]
     },
     "metadata": {},
     "output_type": "display_data"
    }
   ],
   "source": [
    "## Group by \"time_in_business\"\n",
    "total_times = len(df_corr['time_in_business'].dropna())\n",
    "grp1 = len(df_corr[(df_corr['time_in_business'] == '10+ years')]['time_in_business'].dropna())\n",
    "grp2 = len(df_corr[(df_corr['time_in_business'] == '6-10 years')]['time_in_business'].dropna())\n",
    "grp3 = len(df_corr[(df_corr['time_in_business'] == '3-5 years')]['time_in_business'].dropna())\n",
    "grp4 = len(df_corr[(df_corr['time_in_business'] == '1-2 years')]['time_in_business'].dropna())\n",
    "grp5 = len(df_corr[(df_corr['time_in_business'] == 'Less than a year')]['time_in_business'].dropna())\n",
    "grp_higher = grp4+grp5\n",
    "\n",
    "perctg_ = [grp1/total_times, grp2/total_times, grp3/total_times, grp_higher/total_times]\n",
    "labls_ = ['10+ years', '6-10 years', '3-5 years', '>2 years']\n",
    "cs = cm.Set1(np.arange(len(labls_))/len(labls_))\n",
    "\n",
    "plt.clf()\n",
    "mpl.rcParams['font.size'] = 16.\n",
    "mpl.rc('xtick', labelsize=14.)\n",
    "fig = plt.figure(figsize=(4,4))\n",
    "plt.pie(perctg_, labels=labls_, autopct='%1.1f%%', counterclock=False, colors=cs, startangle=45, labeldistance=1.1)\n",
    "plt.title('Time in the business', fontsize=16)\n",
    "plt.tight_layout()\n",
    "plt.show(fig)\n",
    "#plt.savefig('./figs/longevity_fraction.png', bbox_inches='tight')\n",
    "\n",
    "plt.close('all')\n",
    "mpl.rc('xtick', labelsize=20.)"
   ]
  },
  {
   "cell_type": "code",
   "execution_count": 41,
   "metadata": {},
   "outputs": [
    {
     "data": {
      "text/plain": [
       "<matplotlib.figure.Figure at 0x18626fd30>"
      ]
     },
     "metadata": {},
     "output_type": "display_data"
    },
    {
     "data": {
      "image/png": "[encoded data removed]",
      "text/plain": [
       "<matplotlib.figure.Figure at 0x178585860>"
      ]
     },
     "metadata": {},
     "output_type": "display_data"
    }
   ],
   "source": [
    "## Group by revenue\n",
    "total_revenue = len(df_corr['revenue'].dropna())\n",
    "grp1 = len(df_corr[(df_corr['revenue'] == 'Less Than $500,000')]['revenue'].dropna())\n",
    "grp2 = len(df_corr[(df_corr['revenue'] == '$500,000 to $1 Million')]['revenue'].dropna())\n",
    "grp3 = len(df_corr[(df_corr['revenue'] == '$1 to 2.5 Million')]['revenue'].dropna())\n",
    "grp4 = len(df_corr[(df_corr['revenue'] == '$2.5 to 5 Million')]['revenue'].dropna())\n",
    "grp5 = len(df_corr[(df_corr['revenue'] == '$5 to 10 Million')]['revenue'].dropna())\n",
    "grp6 = len(df_corr[(df_corr['revenue'] == '$10 to 20 Million')]['revenue'].dropna())\n",
    "grp7 = len(df_corr[(df_corr['revenue'] == '$20 to 50 Million')]['revenue'].dropna())\n",
    "grp8 = len(df_corr[(df_corr['revenue'] == '$50 to 100 Million')]['revenue'].dropna())\n",
    "grp9 = len(df_corr[(df_corr['revenue'] == '$100 to 500 Million')]['revenue'].dropna())\n",
    "grp10 = len(df_corr[(df_corr['revenue'] == 'Over $500 Million')]['revenue'].dropna())\n",
    "grp11 = len(df_corr[(df_corr['revenue'] == 'Over $1 Billion')]['revenue'].dropna())\n",
    "grp_higher = grp11+grp10+grp9+grp8\n",
    "\n",
    "perctg_ = [grp1/total_revenue, grp2/total_revenue, grp3/total_revenue, grp4/total_revenue, grp5/total_revenue, \n",
    "          grp6/total_revenue, grp7/total_revenue, grp_higher/total_revenue]\n",
    "labls_ = ['Less Than \\$500,000', '\\$500,000 to \\$1 Million', '$1 to 2.5 Million', '$2.5 to 5 Million', \n",
    "         '$5 to 10 Million', '$10 to 20 Million', '$20 to 50 Million', '>/$50 Million']\n",
    "cs = cm.Set1(np.arange(len(labls_))/len(labls_))\n",
    "\n",
    "plt.clf()\n",
    "mpl.rcParams['font.size'] = 11.\n",
    "mpl.rc('xtick', labelsize=14)\n",
    "fig = plt.figure(figsize=(4,4))\n",
    "plt.pie(perctg_, labels=labls_, autopct='%1.1f%%', counterclock=False, colors=cs, startangle=45, labeldistance=1.1)\n",
    "plt.title('Revenue of the business', fontsize=18)\n",
    "plt.tight_layout()\n",
    "plt.show(fig)\n",
    "#plt.savefig('./figs/revenue_fraction.png', bbox_inches='tight')\n",
    "\n",
    "plt.close('all')\n",
    "mpl.rcParams['font.size'] = 16.\n",
    "mpl.rc('xtick', labelsize=20.)"
   ]
  },
  {
   "cell_type": "code",
   "execution_count": 42,
   "metadata": {},
   "outputs": [
    {
     "data": {
      "text/html": [
       "<div>\n",
       "<style>\n",
       "    .dataframe thead tr:only-child th {\n",
       "        text-align: right;\n",
       "    }\n",
       "\n",
       "    .dataframe thead th {\n",
       "        text-align: left;\n",
       "    }\n",
       "\n",
       "    .dataframe tbody tr th {\n",
       "        vertical-align: top;\n",
       "    }\n",
       "</style>\n",
       "<table border=\"1\" class=\"dataframe\">\n",
       "  <thead>\n",
       "    <tr style=\"text-align: right;\">\n",
       "      <th></th>\n",
       "      <th>index</th>\n",
       "      <th>revenue</th>\n",
       "      <th>name</th>\n",
       "      <th>state</th>\n",
       "      <th>city</th>\n",
       "    </tr>\n",
       "    <tr>\n",
       "      <th>time_in_business</th>\n",
       "      <th></th>\n",
       "      <th></th>\n",
       "      <th></th>\n",
       "      <th></th>\n",
       "      <th></th>\n",
       "    </tr>\n",
       "  </thead>\n",
       "  <tbody>\n",
       "    <tr>\n",
       "      <th>1-2 years</th>\n",
       "      <td>18</td>\n",
       "      <td>18</td>\n",
       "      <td>18</td>\n",
       "      <td>18</td>\n",
       "      <td>18</td>\n",
       "    </tr>\n",
       "    <tr>\n",
       "      <th>10+ years</th>\n",
       "      <td>1339</td>\n",
       "      <td>1339</td>\n",
       "      <td>1339</td>\n",
       "      <td>1339</td>\n",
       "      <td>1339</td>\n",
       "    </tr>\n",
       "    <tr>\n",
       "      <th>3-5 years</th>\n",
       "      <td>65</td>\n",
       "      <td>65</td>\n",
       "      <td>65</td>\n",
       "      <td>65</td>\n",
       "      <td>65</td>\n",
       "    </tr>\n",
       "    <tr>\n",
       "      <th>6-10 years</th>\n",
       "      <td>189</td>\n",
       "      <td>189</td>\n",
       "      <td>189</td>\n",
       "      <td>189</td>\n",
       "      <td>189</td>\n",
       "    </tr>\n",
       "  </tbody>\n",
       "</table>\n",
       "</div>"
      ],
      "text/plain": [
       "                  index  revenue  name  state  city\n",
       "time_in_business                                   \n",
       "1-2 years            18       18    18     18    18\n",
       "10+ years          1339     1339  1339   1339  1339\n",
       "3-5 years            65       65    65     65    65\n",
       "6-10 years          189      189   189    189   189"
      ]
     },
     "execution_count": 42,
     "metadata": {},
     "output_type": "execute_result"
    }
   ],
   "source": [
    "highest_revenue = df_corr[(df_corr['revenue'] == 'Over $1 Billion')][['revenue','name','state','city','time_in_business']].dropna().reset_index()#.tail(3)\n",
    "highest_revenue.groupby('time_in_business').count()"
   ]
  },
  {
   "cell_type": "code",
   "execution_count": 43,
   "metadata": {},
   "outputs": [
    {
     "data": {
      "text/plain": [
       "array(['LIFETOUCH INC.', 'Mycon LLC', 'Southbay Cold Storage',\n",
       "       'Travel Paltz Travel Center'], dtype=object)"
      ]
     },
     "execution_count": 43,
     "metadata": {},
     "output_type": "execute_result"
    }
   ],
   "source": [
    "## Which companies have a revenue >$1 Billion, have been less than 2 years in the business and are located in CA?\n",
    "highest_revenue[(highest_revenue['time_in_business']=='1-2 years') & (highest_revenue['state']=='CA')]['name'].values"
   ]
  },
  {
   "cell_type": "markdown",
   "metadata": {},
   "source": [
    "'LIFETOUCH INC.', 'Mycon LLC', 'Southbay Cold Storage' and 'Travel Paltz Travel Center' are the 4 companies that have a revenue >$1 Billion, have been less than 2 years in the business and are located in CA.\n"
   ]
  }
 ],
 "metadata": {
  "kernelspec": {
   "display_name": "Python 3",
   "language": "python",
   "name": "python3"
  },
  "language_info": {
   "codemirror_mode": {
    "name": "ipython",
    "version": 3
   },
   "file_extension": ".py",
   "mimetype": "text/x-python",
   "name": "python",
   "nbconvert_exporter": "python",
   "pygments_lexer": "ipython3",
   "version": "3.6.1"
  }
 },
 "nbformat": 4,
 "nbformat_minor": 2
}
